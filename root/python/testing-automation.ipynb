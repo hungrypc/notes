{
 "cells": [
  {
   "cell_type": "markdown",
   "metadata": {},
   "source": [
    "# Automation/Testing\n",
    "\n",
    "We'll be using selenium. \n",
    "```\n",
    "pip3 install selenium\n",
    "```\n",
    "\n",
    "[automation.py file](https://github.com/hungrypc/notes/blob/master/root/python/automation.py)\n",
    "\n",
    "Selenium works with these drivers because each browser have different drivers to interface with them. Based on what browser you want to use, you have to install the driver.\n",
    "\n",
    "[Chrome Driver](https://chromedriver.chromium.org/home)\n"
   ]
  },
  {
   "cell_type": "code",
   "execution_count": null,
   "metadata": {},
   "outputs": [],
   "source": [
    "from selenium import webdriver\n",
    "\n",
    "chrome_browser = webdriver.Chrome('./chromedriver')\n",
    "\n",
    "chrome_browser.maximize_window()"
   ]
  },
  {
   "cell_type": "markdown",
   "metadata": {},
   "source": [
    "## Selenium Basics\n",
    "[Selenium Easy](https://www.seleniumeasy.com/test/)\n",
    "\n",
    "[Selenium CheatSheet](http://allselenium.info/python-selenium-commands-cheat-sheet-frequently-used/)"
   ]
  },
  {
   "cell_type": "code",
   "execution_count": null,
   "metadata": {},
   "outputs": [],
   "source": [
    "chrome_browser.get('https://www.seleniumeasy.com/test/basic-first-form-demo.html')\n",
    "print('Selenium Easy Demo' in chrome_browser.title)  # True"
   ]
  },
  {
   "cell_type": "code",
   "execution_count": null,
   "metadata": {},
   "outputs": [],
   "source": [
    "button_text = chrome_browser.find_element_by_class_name('btn-default')\n",
    "print(button_text.get_attribute('innerHTML'))"
   ]
  },
  {
   "cell_type": "code",
   "execution_count": null,
   "metadata": {},
   "outputs": [],
   "source": [
    "text_box = chrome_browser.find_element_by_id('user-message')\n",
    "text_box.clear()\n",
    "text_box.send_keys('TESTING SELENIUM')\n",
    "\n",
    "show_message_button.click()\n",
    "\n",
    "output_message = chrome_browser.find_element_by_id('display')\n",
    "\n",
    "assert 'TESTING SELENIUM' in output_message.text"
   ]
  },
  {
   "cell_type": "code",
   "execution_count": null,
   "metadata": {},
   "outputs": [],
   "source": [
    "chrome_browser.find_element_by_css_selector('.btn')\n",
    "\n",
    "chrome_browser.close()\n",
    "# might have to call twice due to selenium bugs\n",
    "\n",
    "chrome_browser.quit()\n",
    "\n",
    "chrome_browser.sleep()  # explicit wait "
   ]
  }
 ],
 "metadata": {
  "kernelspec": {
   "display_name": "Python 3",
   "language": "python",
   "name": "python3"
  },
  "language_info": {
   "codemirror_mode": {
    "name": "ipython",
    "version": 3
   },
   "file_extension": ".py",
   "mimetype": "text/x-python",
   "name": "python",
   "nbconvert_exporter": "python",
   "pygments_lexer": "ipython3",
   "version": "3.7.6"
  }
 },
 "nbformat": 4,
 "nbformat_minor": 4
}
