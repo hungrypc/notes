{
 "cells": [
  {
   "cell_type": "markdown",
   "metadata": {},
   "source": [
    "# Automation/Testing\n",
    "\n",
    "We'll be using selenium. \n",
    "```\n",
    "pip3 install selenium\n",
    "```\n",
    "\n",
    "[automation.py file](https://github.com/hungrypc/notes/blob/master/root/python/automation.py)\n",
    "\n",
    "Selenium works with these drivers because each browser have different drivers to interface with them. Based on what browser you want to use, you have to install the driver.\n",
    "\n",
    "[Chrome Driver](https://chromedriver.chromium.org/home)\n"
   ]
  },
  {
   "cell_type": "code",
   "execution_count": null,
   "metadata": {},
   "outputs": [],
   "source": []
  }
 ],
 "metadata": {
  "kernelspec": {
   "display_name": "Python 3",
   "language": "python",
   "name": "python3"
  },
  "language_info": {
   "codemirror_mode": {
    "name": "ipython",
    "version": 3
   },
   "file_extension": ".py",
   "mimetype": "text/x-python",
   "name": "python",
   "nbconvert_exporter": "python",
   "pygments_lexer": "ipython3",
   "version": "3.7.6"
  }
 },
 "nbformat": 4,
 "nbformat_minor": 4
}
