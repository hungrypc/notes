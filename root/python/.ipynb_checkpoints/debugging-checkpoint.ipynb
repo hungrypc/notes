{
 "cells": [
  {
   "cell_type": "markdown",
   "metadata": {},
   "source": [
    "# Debugging"
   ]
  },
  {
   "cell_type": "code",
   "execution_count": 1,
   "metadata": {},
   "outputs": [
    {
     "name": "stdout",
     "output_type": "stream",
     "text": [
      "> <ipython-input-1-0482e9e1e8d0>(5)add()\n",
      "-> return num1 + num2\n",
      "(Pdb) num1\n",
      "4\n",
      "(Pdb) num2\n",
      "'fdsa'\n",
      "(Pdb) help list\n",
      "l(ist) [first [,last] | .]\n",
      "\n",
      "        List source code for the current file.  Without arguments,\n",
      "        list 11 lines around the current line or continue the previous\n",
      "        listing.  With . as argument, list 11 lines around the current\n",
      "        line.  With one argument, list 11 lines starting at that line.\n",
      "        With two arguments, list the given range; if the second\n",
      "        argument is less than the first, it is a count.\n",
      "\n",
      "        The current line in the current frame is indicated by \"->\".\n",
      "        If an exception is being debugged, the line where the\n",
      "        exception was originally raised or propagated is indicated by\n",
      "        \">>\", if it differs from the current line.\n",
      "(Pdb) a\n",
      "num1 = 4\n",
      "num2 = 'fdsa'\n",
      "(Pdb) num2 = 5\n",
      "(Pdb) continue\n"
     ]
    },
    {
     "data": {
      "text/plain": [
       "9"
      ]
     },
     "execution_count": 1,
     "metadata": {},
     "output_type": "execute_result"
    }
   ],
   "source": [
    "import pdb\n",
    "\n",
    "def add(num1, num2):\n",
    "    pdb.set_trace()   # pause code here and debug\n",
    "    return num1 + num2\n",
    "\n",
    "add(4, 'fdsa')"
   ]
  },
  {
   "cell_type": "markdown",
   "metadata": {},
   "source": [
    "With this, we can dig around the code at points we want to step through."
   ]
  }
 ],
 "metadata": {
  "kernelspec": {
   "display_name": "Python 3",
   "language": "python",
   "name": "python3"
  },
  "language_info": {
   "codemirror_mode": {
    "name": "ipython",
    "version": 3
   },
   "file_extension": ".py",
   "mimetype": "text/x-python",
   "name": "python",
   "nbconvert_exporter": "python",
   "pygments_lexer": "ipython3",
   "version": "3.7.6"
  }
 },
 "nbformat": 4,
 "nbformat_minor": 4
}
