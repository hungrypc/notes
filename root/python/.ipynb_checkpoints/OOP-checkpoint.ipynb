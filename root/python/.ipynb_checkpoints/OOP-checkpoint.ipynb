{
 "cells": [
  {
   "cell_type": "markdown",
   "metadata": {},
   "source": [
    "# Advanced Python: OOP"
   ]
  },
  {
   "cell_type": "markdown",
   "metadata": {},
   "source": [
    "##  Creating Our Own Objects"
   ]
  },
  {
   "cell_type": "code",
   "execution_count": 4,
   "metadata": {},
   "outputs": [
    {
     "name": "stdout",
     "output_type": "stream",
     "text": [
      "HeroName\n",
      "run\n"
     ]
    }
   ],
   "source": [
    "class PlayerCharacter:\n",
    "    def __init__(self, name):\n",
    "        self.name = name\n",
    "        \n",
    "    def run(self):\n",
    "        print('run')\n",
    "        \n",
    "\n",
    "player1 = PlayerCharacter('HeroName')\n",
    "\n",
    "print(player1.name)\n",
    "player1.run()"
   ]
  },
  {
   "cell_type": "markdown",
   "metadata": {},
   "source": [
    "## Attributes and Methods"
   ]
  },
  {
   "cell_type": "code",
   "execution_count": 19,
   "metadata": {},
   "outputs": [
    {
     "name": "stdout",
     "output_type": "stream",
     "text": [
      "membership status:  True\n",
      "hello, my name is Hero\n"
     ]
    }
   ],
   "source": [
    "class PlayerCharacter:\n",
    "    membership = True   # class object attribute (static)\n",
    "    def __init__(self, name='anonymous', health='100'):\n",
    "        self.name = name   # regular class attribute\n",
    "        self.health = health\n",
    "        \n",
    "    def shout(self, greeting):\n",
    "        print(f'{greeting}, my name is {self.name}')\n",
    "        \n",
    "player = PlayerCharacter('Hero', 150)\n",
    "\n",
    "print('membership status: ', player.membership)\n",
    "player.shout('hello')"
   ]
  },
  {
   "cell_type": "markdown",
   "metadata": {},
   "source": [
    "## @classmethod and @staticmethod"
   ]
  },
  {
   "cell_type": "code",
   "execution_count": 42,
   "metadata": {},
   "outputs": [
    {
     "name": "stdout",
     "output_type": "stream",
     "text": [
      "GOD summoned Human\n",
      "Human unable to summon GOD\n"
     ]
    }
   ],
   "source": [
    "class PlayerCharacter:\n",
    "    membership = True   # class object attribute (static)\n",
    "    def __init__(self, name='anonymous', health='100'):\n",
    "        self.name = name   # regular class attribute\n",
    "        self.health = health\n",
    "        \n",
    "    @classmethod\n",
    "    def summon(cls, self, being, health):\n",
    "        if self.name != 'GOD':\n",
    "            print(f'{self.name} unable to summon {being}')\n",
    "            return None\n",
    "        else:    \n",
    "            print(f'{self.name} summoned {being}')\n",
    "            return cls(being, health)\n",
    "\n",
    "god = PlayerCharacter('GOD', 1000000000)\n",
    "\n",
    "human = god.summon(god, 'Human', 10)\n",
    "\n",
    "new_god = human.summon(human, 'GOD', 5)"
   ]
  },
  {
   "cell_type": "markdown",
   "metadata": {},
   "source": [
    "We have to add cls because class methods take a hidden arg: class. With this, we can actually instantiate a class in the method."
   ]
  },
  {
   "cell_type": "code",
   "execution_count": 37,
   "metadata": {},
   "outputs": [
    {
     "name": "stdout",
     "output_type": "stream",
     "text": [
      "5\n"
     ]
    }
   ],
   "source": [
    "class SimpleClass:\n",
    "    def __init__(self, name='anonymous'):\n",
    "        self.name = name \n",
    "        \n",
    "    @staticmethod\n",
    "    def adding_things(num1, num2):\n",
    "        return num1 + num2\n",
    "        \n",
    "temp = SimpleClass('decorator example')\n",
    "\n",
    "print(temp.adding_things(2, 3))"
   ]
  },
  {
   "cell_type": "markdown",
   "metadata": {},
   "source": [
    "Static methods work the same, except without access to cls. Instead, it's just regular methods that have nothing to do with the class state."
   ]
  },
  {
   "cell_type": "markdown",
   "metadata": {},
   "source": [
    "## 4 Pillars of OOP"
   ]
  },
  {
   "cell_type": "markdown",
   "metadata": {},
   "source": [
    "### Encapsulation\n",
    "> The binding of data and functions that manipulate that data, which we encapsulate into one big object so that we keep everything within that 'box' that users/code can interact with (attributes and methods)"
   ]
  },
  {
   "cell_type": "markdown",
   "metadata": {},
   "source": [
    "### Abstraction\n",
    "> Hiding of information, or abstracting away information, and giving access to only what is necessary"
   ]
  },
  {
   "cell_type": "code",
   "execution_count": 43,
   "metadata": {},
   "outputs": [],
   "source": [
    "class PlayerCharacter:\n",
    "    def __init__(self, name='anonymous', health='100'):\n",
    "        self._name = name    # _ means don't change this\n",
    "        self._health = health"
   ]
  },
  {
   "cell_type": "markdown",
   "metadata": {},
   "source": [
    "### Inheritance\n",
    "> Allows new objects to take on the properties of existing objects"
   ]
  },
  {
   "cell_type": "code",
   "execution_count": 56,
   "metadata": {},
   "outputs": [
    {
     "name": "stdout",
     "output_type": "stream",
     "text": [
      "logged in\n",
      "logged in\n",
      "Merlin attacking with power of 90\n",
      "Legolas attacking with accuracy of 80\n",
      "True\n",
      "True\n",
      "False\n"
     ]
    }
   ],
   "source": [
    "class User():\n",
    "    def sign_in(self):\n",
    "        # some sign in method\n",
    "        print('logged in')\n",
    "\n",
    "\n",
    "class Wizard(User):\n",
    "    def __init__(self, name, power):\n",
    "        self.name = name\n",
    "        self.power = power\n",
    "    \n",
    "    def attack(self):\n",
    "        print(f'{self.name} attacking with power of {self.power}')\n",
    "\n",
    "\n",
    "class Archer(User):\n",
    "    def __init__(self, name, accuracy):\n",
    "        self.name = name\n",
    "        self.accuracy = accuracy\n",
    "    \n",
    "    def attack(self):\n",
    "        print(f'{self.name} attacking with accuracy of {self.accuracy}')\n",
    "        \n",
    "\n",
    "wizard1 = Wizard('Merlin', 90)\n",
    "archer1 = Archer('Legolas', 80)\n",
    "\n",
    "wizard1.sign_in()\n",
    "archer1.sign_in()\n",
    "wizard1.attack()\n",
    "archer1.attack()\n",
    "\n",
    "print(isinstance(wizard1, Wizard))\n",
    "print(isinstance(wizard1, User))\n",
    "print(isinstance(archer1, Wizard))"
   ]
  },
  {
   "cell_type": "markdown",
   "metadata": {},
   "source": [
    "### Polymorphism\n",
    "> Refers to the way in which object classes can share the same method name, but those method names can act differently based on what object calls it"
   ]
  },
  {
   "cell_type": "code",
   "execution_count": 58,
   "metadata": {},
   "outputs": [
    {
     "name": "stdout",
     "output_type": "stream",
     "text": [
      "Merlin attacking with power of 90\n",
      "Legolas attacking with accuracy of 80\n",
      "Merlin attacking with power of 90\n",
      "Legolas attacking with accuracy of 80\n"
     ]
    }
   ],
   "source": [
    "class User():\n",
    "    def sign_in(self):\n",
    "        # some sign in method\n",
    "        print('logged in')\n",
    "\n",
    "\n",
    "class Wizard(User):\n",
    "    def __init__(self, name, power):\n",
    "        self.name = name\n",
    "        self.power = power\n",
    "    \n",
    "    def attack(self):\n",
    "        print(f'{self.name} attacking with power of {self.power}')\n",
    "\n",
    "\n",
    "class Archer(User):\n",
    "    def __init__(self, name, accuracy):\n",
    "        self.name = name\n",
    "        self.accuracy = accuracy\n",
    "    \n",
    "    def attack(self):\n",
    "        print(f'{self.name} attacking with accuracy of {self.accuracy}')\n",
    "        \n",
    "\n",
    "wizard1 = Wizard('Merlin', 90)\n",
    "archer1 = Archer('Legolas', 80)\n",
    "\n",
    "def player_attack(char):\n",
    "    char.attack()\n",
    "    \n",
    "player_attack(wizard1)\n",
    "player_attack(archer1)\n",
    "\n",
    "# OR\n",
    "\n",
    "for char in [wizard1, archer1]:\n",
    "    char.attack()"
   ]
  },
  {
   "cell_type": "markdown",
   "metadata": {},
   "source": [
    "## super()"
   ]
  },
  {
   "cell_type": "code",
   "execution_count": 61,
   "metadata": {},
   "outputs": [
    {
     "name": "stdout",
     "output_type": "stream",
     "text": [
      "oldman@email.com\n",
      "arrowboy@email.com\n"
     ]
    }
   ],
   "source": [
    "class User():\n",
    "    def __init__(self, email):\n",
    "        self.email = email\n",
    "        \n",
    "    def sign_in(self):\n",
    "        print('logged in')\n",
    "\n",
    "\n",
    "class Wizard(User):\n",
    "    def __init__(self, name, power, email):\n",
    "        super().__init__(email)\n",
    "        self.name = name\n",
    "        self.power = power\n",
    "    \n",
    "    def attack(self):\n",
    "        print(f'{self.name} attacking with power of {self.power}')\n",
    "\n",
    "\n",
    "class Archer(User):\n",
    "    def __init__(self, name, accuracy, email):\n",
    "        super().__init__(email)\n",
    "        self.name = name\n",
    "        self.accuracy = accuracy\n",
    "    \n",
    "    def attack(self):\n",
    "        print(f'{self.name} attacking with accuracy of {self.accuracy}')\n",
    "        \n",
    "\n",
    "wizard1 = Wizard('Merlin', 90, 'oldman@email.com')\n",
    "archer1 = Archer('Legolas', 80, 'arrowboy@email.com')\n",
    "\n",
    "print(wizard1.email)\n",
    "print(archer1.email)"
   ]
  },
  {
   "cell_type": "code",
   "execution_count": null,
   "metadata": {},
   "outputs": [],
   "source": []
  }
 ],
 "metadata": {
  "kernelspec": {
   "display_name": "Python 3",
   "language": "python",
   "name": "python3"
  },
  "language_info": {
   "codemirror_mode": {
    "name": "ipython",
    "version": 3
   },
   "file_extension": ".py",
   "mimetype": "text/x-python",
   "name": "python",
   "nbconvert_exporter": "python",
   "pygments_lexer": "ipython3",
   "version": "3.7.6"
  }
 },
 "nbformat": 4,
 "nbformat_minor": 4
}
