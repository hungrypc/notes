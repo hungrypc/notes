{
 "cells": [
  {
   "cell_type": "markdown",
   "metadata": {},
   "source": [
    "# Advanced Python: OOP"
   ]
  },
  {
   "cell_type": "markdown",
   "metadata": {},
   "source": [
    "##  Creating Our Own Objects"
   ]
  },
  {
   "cell_type": "code",
   "execution_count": 4,
   "metadata": {},
   "outputs": [
    {
     "name": "stdout",
     "output_type": "stream",
     "text": [
      "HeroName\n",
      "run\n"
     ]
    }
   ],
   "source": [
    "class PlayerCharacter:\n",
    "    def __init__(self, name):\n",
    "        self.name = name\n",
    "        \n",
    "    def run(self):\n",
    "        print('run')\n",
    "        \n",
    "\n",
    "player1 = PlayerCharacter('HeroName')\n",
    "\n",
    "print(player1.name)\n",
    "player1.run()"
   ]
  },
  {
   "cell_type": "markdown",
   "metadata": {},
   "source": [
    "## Attributes and Methods"
   ]
  },
  {
   "cell_type": "code",
   "execution_count": 19,
   "metadata": {},
   "outputs": [
    {
     "name": "stdout",
     "output_type": "stream",
     "text": [
      "membership status:  True\n",
      "hello, my name is Hero\n"
     ]
    }
   ],
   "source": [
    "class PlayerCharacter:\n",
    "    membership = True   # class object attribute (static)\n",
    "    def __init__(self, name='anonymous', health='100'):\n",
    "        self.name = name   # regular class attribute\n",
    "        self.health = health\n",
    "        \n",
    "    def shout(self, greeting):\n",
    "        print(f'{greeting}, my name is {self.name}')\n",
    "        \n",
    "player = PlayerCharacter('Hero', 150)\n",
    "\n",
    "print('membership status: ', player.membership)\n",
    "player.shout('hello')"
   ]
  },
  {
   "cell_type": "markdown",
   "metadata": {},
   "source": [
    "## @classmethod and @staticmethod"
   ]
  },
  {
   "cell_type": "code",
   "execution_count": 42,
   "metadata": {},
   "outputs": [
    {
     "name": "stdout",
     "output_type": "stream",
     "text": [
      "GOD summoned Human\n",
      "Human unable to summon GOD\n"
     ]
    }
   ],
   "source": [
    "class PlayerCharacter:\n",
    "    membership = True   # class object attribute (static)\n",
    "    def __init__(self, name='anonymous', health='100'):\n",
    "        self.name = name   # regular class attribute\n",
    "        self.health = health\n",
    "        \n",
    "    @classmethod\n",
    "    def summon(cls, self, being, health):\n",
    "        if self.name != 'GOD':\n",
    "            print(f'{self.name} unable to summon {being}')\n",
    "            return None\n",
    "        else:    \n",
    "            print(f'{self.name} summoned {being}')\n",
    "            return cls(being, health)\n",
    "\n",
    "god = PlayerCharacter('GOD', 1000000000)\n",
    "\n",
    "human = god.summon(god, 'Human', 10)\n",
    "\n",
    "new_god = human.summon(human, 'GOD', 5)"
   ]
  },
  {
   "cell_type": "markdown",
   "metadata": {},
   "source": [
    "We have to add cls because class methods take a hidden arg: class. With this, we can actually instantiate a class in the method."
   ]
  },
  {
   "cell_type": "code",
   "execution_count": 37,
   "metadata": {},
   "outputs": [
    {
     "name": "stdout",
     "output_type": "stream",
     "text": [
      "5\n"
     ]
    }
   ],
   "source": [
    "class SimpleClass:\n",
    "    def __init__(self, name='anonymous'):\n",
    "        self.name = name \n",
    "        \n",
    "    @staticmethod\n",
    "    def adding_things(num1, num2):\n",
    "        return num1 + num2\n",
    "        \n",
    "temp = SimpleClass('decorator example')\n",
    "\n",
    "print(temp.adding_things(2, 3))"
   ]
  },
  {
   "cell_type": "markdown",
   "metadata": {},
   "source": [
    "Static methods work the same, except without access to cls. Instead, it's just regular methods that have nothing to do with the class state."
   ]
  },
  {
   "cell_type": "markdown",
   "metadata": {},
   "source": [
    "## 4 Pillars of OOP"
   ]
  },
  {
   "cell_type": "markdown",
   "metadata": {},
   "source": [
    "### Encapsulation\n",
    "> The binding of data and functions that manipulate that data, which we encapsulate into one big object so that we keep everything within that 'box' that users/code can interact with (attributes and methods)"
   ]
  },
  {
   "cell_type": "markdown",
   "metadata": {},
   "source": [
    "### Abstraction\n",
    "> Hiding of information, or abstracting away information, and giving access to only what is necessary"
   ]
  },
  {
   "cell_type": "code",
   "execution_count": 43,
   "metadata": {},
   "outputs": [],
   "source": [
    "class PlayerCharacter:\n",
    "    def __init__(self, name='anonymous', health='100'):\n",
    "        self._name = name    # _ means don't change this\n",
    "        self._health = health"
   ]
  },
  {
   "cell_type": "markdown",
   "metadata": {},
   "source": [
    "### Inheritance\n",
    "> Allows new objects to take on the properties of existing objects"
   ]
  },
  {
   "cell_type": "code",
   "execution_count": 56,
   "metadata": {},
   "outputs": [
    {
     "name": "stdout",
     "output_type": "stream",
     "text": [
      "logged in\n",
      "logged in\n",
      "Merlin attacking with power of 90\n",
      "Legolas attacking with accuracy of 80\n",
      "True\n",
      "True\n",
      "False\n"
     ]
    }
   ],
   "source": [
    "class User():\n",
    "    def sign_in(self):\n",
    "        # some sign in method\n",
    "        print('logged in')\n",
    "\n",
    "\n",
    "class Wizard(User):\n",
    "    def __init__(self, name, power):\n",
    "        self.name = name\n",
    "        self.power = power\n",
    "    \n",
    "    def attack(self):\n",
    "        print(f'{self.name} attacking with power of {self.power}')\n",
    "\n",
    "\n",
    "class Archer(User):\n",
    "    def __init__(self, name, accuracy):\n",
    "        self.name = name\n",
    "        self.accuracy = accuracy\n",
    "    \n",
    "    def attack(self):\n",
    "        print(f'{self.name} attacking with accuracy of {self.accuracy}')\n",
    "        \n",
    "\n",
    "wizard1 = Wizard('Merlin', 90)\n",
    "archer1 = Archer('Legolas', 80)\n",
    "\n",
    "wizard1.sign_in()\n",
    "archer1.sign_in()\n",
    "wizard1.attack()\n",
    "archer1.attack()\n",
    "\n",
    "print(isinstance(wizard1, Wizard))\n",
    "print(isinstance(wizard1, User))\n",
    "print(isinstance(archer1, Wizard))"
   ]
  },
  {
   "cell_type": "markdown",
   "metadata": {},
   "source": [
    "### Polymorphism\n",
    "> Refers to the way in which object classes can share the same method name, but those method names can act differently based on what object calls it"
   ]
  },
  {
   "cell_type": "code",
   "execution_count": 58,
   "metadata": {},
   "outputs": [
    {
     "name": "stdout",
     "output_type": "stream",
     "text": [
      "Merlin attacking with power of 90\n",
      "Legolas attacking with accuracy of 80\n",
      "Merlin attacking with power of 90\n",
      "Legolas attacking with accuracy of 80\n"
     ]
    }
   ],
   "source": [
    "class User():\n",
    "    def sign_in(self):\n",
    "        # some sign in method\n",
    "        print('logged in')\n",
    "\n",
    "\n",
    "class Wizard(User):\n",
    "    def __init__(self, name, power):\n",
    "        self.name = name\n",
    "        self.power = power\n",
    "    \n",
    "    def attack(self):\n",
    "        print(f'{self.name} attacking with power of {self.power}')\n",
    "\n",
    "\n",
    "class Archer(User):\n",
    "    def __init__(self, name, accuracy):\n",
    "        self.name = name\n",
    "        self.accuracy = accuracy\n",
    "    \n",
    "    def attack(self):\n",
    "        print(f'{self.name} attacking with accuracy of {self.accuracy}')\n",
    "        \n",
    "\n",
    "wizard1 = Wizard('Merlin', 90)\n",
    "archer1 = Archer('Legolas', 80)\n",
    "\n",
    "def player_attack(char):\n",
    "    char.attack()\n",
    "    \n",
    "player_attack(wizard1)\n",
    "player_attack(archer1)\n",
    "\n",
    "# OR\n",
    "\n",
    "for char in [wizard1, archer1]:\n",
    "    char.attack()"
   ]
  },
  {
   "cell_type": "markdown",
   "metadata": {},
   "source": [
    "## super()"
   ]
  },
  {
   "cell_type": "code",
   "execution_count": 61,
   "metadata": {},
   "outputs": [
    {
     "name": "stdout",
     "output_type": "stream",
     "text": [
      "oldman@email.com\n",
      "arrowboy@email.com\n"
     ]
    }
   ],
   "source": [
    "class User():\n",
    "    def __init__(self, email):\n",
    "        self.email = email\n",
    "        \n",
    "    def sign_in(self):\n",
    "        print('logged in')\n",
    "\n",
    "\n",
    "class Wizard(User):\n",
    "    def __init__(self, name, power, email):\n",
    "        super().__init__(email)\n",
    "        self.name = name\n",
    "        self.power = power\n",
    "    \n",
    "    def attack(self):\n",
    "        print(f'{self.name} attacking with power of {self.power}')\n",
    "\n",
    "\n",
    "class Archer(User):\n",
    "    def __init__(self, name, accuracy, email):\n",
    "        super().__init__(email)\n",
    "        self.name = name\n",
    "        self.accuracy = accuracy\n",
    "    \n",
    "    def attack(self):\n",
    "        print(f'{self.name} attacking with accuracy of {self.accuracy}')\n",
    "        \n",
    "\n",
    "wizard1 = Wizard('Merlin', 90, 'oldman@email.com')\n",
    "archer1 = Archer('Legolas', 80, 'arrowboy@email.com')\n",
    "\n",
    "print(wizard1.email)\n",
    "print(archer1.email)"
   ]
  },
  {
   "cell_type": "markdown",
   "metadata": {},
   "source": [
    "## Object Introspection\n",
    "> The ability to determine the type of an object at runtime\n",
    "\n",
    "Because everything in python is an object, we can introspect it."
   ]
  },
  {
   "cell_type": "code",
   "execution_count": 2,
   "metadata": {},
   "outputs": [
    {
     "name": "stdout",
     "output_type": "stream",
     "text": [
      "['__class__', '__delattr__', '__dict__', '__dir__', '__doc__', '__eq__', '__format__', '__ge__', '__getattribute__', '__gt__', '__hash__', '__init__', '__init_subclass__', '__le__', '__lt__', '__module__', '__ne__', '__new__', '__reduce__', '__reduce_ex__', '__repr__', '__setattr__', '__sizeof__', '__str__', '__subclasshook__', '__weakref__', 'attack', 'email', 'name', 'power', 'sign_in']\n"
     ]
    }
   ],
   "source": [
    "class User():\n",
    "    def __init__(self, email):\n",
    "        self.email = email\n",
    "        \n",
    "    def sign_in(self):\n",
    "        print('logged in')\n",
    "\n",
    "\n",
    "class Wizard(User):\n",
    "    def __init__(self, name, power, email):\n",
    "        super().__init__(email)\n",
    "        self.name = name\n",
    "        self.power = power\n",
    "    \n",
    "    def attack(self):\n",
    "        print(f'{self.name} attacking with power of {self.power}')\n",
    "\n",
    "wizard1 = Wizard('Merlin', 90, 'oldman@email.com')\n",
    "\n",
    "print(dir(wizard1))"
   ]
  },
  {
   "cell_type": "markdown",
   "metadata": {},
   "source": [
    "## Dunder Methods\n",
    "> Special methods that allow us to use python specific functions on objects "
   ]
  },
  {
   "cell_type": "code",
   "execution_count": 4,
   "metadata": {},
   "outputs": [
    {
     "name": "stdout",
     "output_type": "stream",
     "text": [
      "<__main__.Toy object at 0x107bacf90>\n",
      "<__main__.Toy object at 0x107bacf90>\n"
     ]
    }
   ],
   "source": [
    "class Toy():\n",
    "    def __init__(self, color, age):\n",
    "        self.color = color\n",
    "        self.age = age\n",
    "        \n",
    "\n",
    "action_figure = Toy('red', 0)\n",
    "print(action_figure.__str__())\n",
    "# is the same as \n",
    "print(str(action_figure))"
   ]
  },
  {
   "cell_type": "markdown",
   "metadata": {},
   "source": [
    "We can even modify these methods"
   ]
  },
  {
   "cell_type": "code",
   "execution_count": 7,
   "metadata": {},
   "outputs": [
    {
     "name": "stdout",
     "output_type": "stream",
     "text": [
      "red\n",
      "red\n"
     ]
    }
   ],
   "source": [
    "class Toy():\n",
    "    def __init__(self, color, age):\n",
    "        self.color = color\n",
    "        self.age = age\n",
    "        \n",
    "    def __str__(self):\n",
    "        return f'{self.color}'\n",
    "        \n",
    "\n",
    "action_figure = Toy('red', 0)\n",
    "print(action_figure.__str__())\n",
    "print(str(action_figure))"
   ]
  },
  {
   "cell_type": "markdown",
   "metadata": {},
   "source": [
    "We typically don't touch these unless we have a particular case where we want/need to"
   ]
  },
  {
   "cell_type": "markdown",
   "metadata": {},
   "source": [
    "## Multiple Inheritance\n"
   ]
  },
  {
   "cell_type": "code",
   "execution_count": 13,
   "metadata": {},
   "outputs": [
    {
     "name": "stdout",
     "output_type": "stream",
     "text": [
      "logged in\n",
      "Borg attacking with power of 50\n",
      "Borg firing with accuracy of 70\n"
     ]
    }
   ],
   "source": [
    "class User():\n",
    "    def sign_in(self):\n",
    "        print('logged in')\n",
    "\n",
    "\n",
    "class Wizard(User):\n",
    "    def __init__(self, name, power):\n",
    "        self.name = name\n",
    "        self.power = power\n",
    "    \n",
    "    def attack(self):\n",
    "        print(f'{self.name} attacking with power of {self.power}')\n",
    "\n",
    "\n",
    "class Archer(User):\n",
    "    def __init__(self, name, accuracy):\n",
    "        self.name = name\n",
    "        self.accuracy = accuracy\n",
    "    \n",
    "    def shoot_arrow(self):\n",
    "        print(f'{self.name} firing with accuracy of {self.accuracy}')\n",
    "        \n",
    "        \n",
    "class Hybrid(Wizard, Archer):\n",
    "    def __init__(self, name, power, accuracy):\n",
    "        Archer.__init__(self, name, accuracy)\n",
    "        Wizard.__init__(self, name, power)\n",
    "\n",
    "\n",
    "hybrid_class = Hybrid('Borg', 50, 70)\n",
    "hybrid_class.sign_in()\n",
    "hybrid_class.attack()\n",
    "hybrid_class.shoot_arrow()\n"
   ]
  },
  {
   "cell_type": "markdown",
   "metadata": {},
   "source": [
    "## Method Resolution Order (MRO)\n",
    "> Rule that python follows to determine, when you run a method, which one to run based on an order. "
   ]
  },
  {
   "cell_type": "code",
   "execution_count": 16,
   "metadata": {},
   "outputs": [
    {
     "name": "stdout",
     "output_type": "stream",
     "text": [
      "1\n",
      "[<class '__main__.D'>, <class '__main__.B'>, <class '__main__.C'>, <class '__main__.A'>, <class 'object'>]\n"
     ]
    }
   ],
   "source": [
    "class A:\n",
    "    num = 10\n",
    "\n",
    "class B(A):\n",
    "    pass\n",
    "\n",
    "class C(A):\n",
    "    num = 1\n",
    "    \n",
    "class D(B, C):\n",
    "    pass\n",
    "\n",
    "#       A\n",
    "#     /  \\\n",
    "#    B   C\n",
    "#    \\  /\n",
    "#     D\n",
    "\n",
    "print(D.num)\n",
    "print(D.mro())"
   ]
  },
  {
   "cell_type": "markdown",
   "metadata": {},
   "source": [
    "The order is because of the way we're passing the parameters. We wrote `class D(B,C)` so mro went to `B` first, then `C`"
   ]
  }
 ],
 "metadata": {
  "kernelspec": {
   "display_name": "Python 3",
   "language": "python",
   "name": "python3"
  },
  "language_info": {
   "codemirror_mode": {
    "name": "ipython",
    "version": 3
   },
   "file_extension": ".py",
   "mimetype": "text/x-python",
   "name": "python",
   "nbconvert_exporter": "python",
   "pygments_lexer": "ipython3",
   "version": "3.7.6"
  }
 },
 "nbformat": 4,
 "nbformat_minor": 4
}
