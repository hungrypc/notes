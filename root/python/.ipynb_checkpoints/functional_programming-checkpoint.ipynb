{
 "cells": [
  {
   "cell_type": "markdown",
   "metadata": {},
   "source": [
    "# Advanced Python: Functional Programming"
   ]
  },
  {
   "cell_type": "markdown",
   "metadata": {},
   "source": [
    "> All about separation of concerns, packaging our code into separate chunks so that everything is organized, and each part is organized in a way that makes sense based on functionality.\n",
    "\n",
    "When we say separation of concerns, we mean each part concerns itself with one thing that it's good at. Functional programming has an emphasis on simplicity where data and functions are concerned. Functions operate on well defined data structures rather than belonging that data structure to an object. The whole idea is making our code:\n",
    "\n",
    "- Clear and understandable \n",
    "- Easy to extend\n",
    "- Easy to maintain\n",
    "- Memory efficient\n",
    "- DRY"
   ]
  },
  {
   "cell_type": "markdown",
   "metadata": {},
   "source": [
    "## Pure Functions\n",
    "\n",
    "A pure function has two rules:\n",
    "\n",
    "1. Given the same input, it will always return the same output\n",
    "2. Should not produce any side effects\n",
    "    - AKA shouldn't affect the outside world"
   ]
  },
  {
   "cell_type": "code",
   "execution_count": 3,
   "metadata": {},
   "outputs": [
    {
     "name": "stdout",
     "output_type": "stream",
     "text": [
      "[2, 4, 6]\n"
     ]
    }
   ],
   "source": [
    "def multiply_by2(li):\n",
    "    new_list = []\n",
    "    for item in li:\n",
    "        new_list.append(item * 2)\n",
    "    return new_list\n",
    "\n",
    "result_output = multiply_by2([1, 2, 3])\n",
    "print(result_output)"
   ]
  },
  {
   "cell_type": "markdown",
   "metadata": {},
   "source": [
    "Pure functions are more like a guideline than an absolute. If we only ever had pure functions, our code wouldn't be doing anything with each other (which is probably not what we're looking to do). It's just a good concept to keep in mind when building things."
   ]
  },
  {
   "cell_type": "markdown",
   "metadata": {},
   "source": [
    "## map()"
   ]
  },
  {
   "cell_type": "code",
   "execution_count": 5,
   "metadata": {},
   "outputs": [
    {
     "name": "stdout",
     "output_type": "stream",
     "text": [
      "<map object at 0x11185b4d0>\n",
      "[2, 4, 6]\n"
     ]
    }
   ],
   "source": [
    "def multiply_by2(item):\n",
    "    return item * 2\n",
    "\n",
    "map_object = map(multiply_by2, [1, 2, 3])\n",
    "print(map_object)\n",
    "print(list(map_object))"
   ]
  },
  {
   "cell_type": "markdown",
   "metadata": {},
   "source": [
    "Remember how we said that pure functions don't affect the outside word?"
   ]
  },
  {
   "cell_type": "code",
   "execution_count": 6,
   "metadata": {},
   "outputs": [
    {
     "name": "stdout",
     "output_type": "stream",
     "text": [
      "[2, 4, 6]\n",
      "[1, 2, 3]\n"
     ]
    }
   ],
   "source": [
    "my_list = [1, 2, 3]\n",
    "def multiply_by2(item):\n",
    "    return item * 2\n",
    "\n",
    "map_object = map(multiply_by2, [1, 2, 3])\n",
    "print(list(map_object))\n",
    "print(my_list)"
   ]
  },
  {
   "cell_type": "markdown",
   "metadata": {},
   "source": [
    "map() returns a new list for us, thus leaving `my_list` as it is whilst still performing operations on it for the new list."
   ]
  },
  {
   "cell_type": "markdown",
   "metadata": {},
   "source": [
    "## filter()"
   ]
  },
  {
   "cell_type": "code",
   "execution_count": 8,
   "metadata": {},
   "outputs": [
    {
     "name": "stdout",
     "output_type": "stream",
     "text": [
      "[1, 3]\n"
     ]
    }
   ],
   "source": [
    "my_list = [1, 2, 3]\n",
    "def only_odd(item):\n",
    "    return item % 2 != 0\n",
    "\n",
    "print(list(filter(only_odd, my_list)))"
   ]
  },
  {
   "cell_type": "markdown",
   "metadata": {},
   "source": [
    "## zip()\n",
    "> Works like a zipper, we can 'zip' multiple iterables together"
   ]
  },
  {
   "cell_type": "code",
   "execution_count": 11,
   "metadata": {},
   "outputs": [
    {
     "name": "stdout",
     "output_type": "stream",
     "text": [
      "[(1, 10, 5), (2, 20, 4), (3, 30, 3)]\n"
     ]
    }
   ],
   "source": [
    "my_list = [1, 2, 3]\n",
    "your_list = [10, 20, 30]\n",
    "their_list = (5, 4, 3)\n",
    "\n",
    "print(list(zip(my_list, your_list, their_list)))"
   ]
  },
  {
   "cell_type": "markdown",
   "metadata": {},
   "source": [
    "Grabs the item in both lists at the same index and puts them together as a tuple."
   ]
  },
  {
   "cell_type": "markdown",
   "metadata": {},
   "source": [
    "## reduce()"
   ]
  },
  {
   "cell_type": "code",
   "execution_count": 17,
   "metadata": {},
   "outputs": [
    {
     "name": "stdout",
     "output_type": "stream",
     "text": [
      "6\n"
     ]
    }
   ],
   "source": [
    "my_list = [1, 2, 3]\n",
    "\n",
    "def add_together(acc, item):\n",
    "    return acc + item\n",
    "\n",
    "print(reduce(add_together, my_list, 0))"
   ]
  },
  {
   "cell_type": "markdown",
   "metadata": {},
   "source": [
    "## Lambda Expressions\n",
    "> One time, anonymous functions that you don't need more than once. Useful when you're using them for functions that:\n",
    "- You only use once\n",
    "- Because we only use them once, we don't need to store them anywhere on our machines"
   ]
  },
  {
   "cell_type": "code",
   "execution_count": 21,
   "metadata": {},
   "outputs": [
    {
     "name": "stdout",
     "output_type": "stream",
     "text": [
      "[2, 4, 6]\n",
      "[1, 3]\n",
      "6\n"
     ]
    }
   ],
   "source": [
    "# lambda param: action(param)\n",
    "my_list = [1, 2, 3]\n",
    "\n",
    "print(list(map(lambda item: item*2, my_list)))\n",
    "print(list(filter(lambda item: item % 2 != 0, my_list)))\n",
    "print(reduce(lambda acc, item: acc+item, my_list, 0))"
   ]
  },
  {
   "cell_type": "markdown",
   "metadata": {},
   "source": [
    "## Exercise: Lambda Expressions\n",
    "(Not doing all, only including new things)"
   ]
  },
  {
   "cell_type": "code",
   "execution_count": 23,
   "metadata": {},
   "outputs": [
    {
     "name": "stdout",
     "output_type": "stream",
     "text": [
      "[(10, -1), (0, 2), (4, 3), (9, 9)]\n"
     ]
    }
   ],
   "source": [
    "a = [(0, 2), (4, 3), (10, -1), (9, 9)]\n",
    "\n",
    "a.sort(key=lambda x: x[1])  # sort by index 1\n",
    "print(a)"
   ]
  },
  {
   "cell_type": "code",
   "execution_count": null,
   "metadata": {},
   "outputs": [],
   "source": []
  }
 ],
 "metadata": {
  "kernelspec": {
   "display_name": "Python 3",
   "language": "python",
   "name": "python3"
  },
  "language_info": {
   "codemirror_mode": {
    "name": "ipython",
    "version": 3
   },
   "file_extension": ".py",
   "mimetype": "text/x-python",
   "name": "python",
   "nbconvert_exporter": "python",
   "pygments_lexer": "ipython3",
   "version": "3.7.6"
  }
 },
 "nbformat": 4,
 "nbformat_minor": 4
}
