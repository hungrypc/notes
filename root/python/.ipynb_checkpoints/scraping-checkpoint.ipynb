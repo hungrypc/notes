{
 "cells": [
  {
   "cell_type": "markdown",
   "metadata": {},
   "source": [
    "# Scraping Data with Python\n"
   ]
  },
  {
   "cell_type": "code",
   "execution_count": 2,
   "metadata": {},
   "outputs": [],
   "source": [
    "import requests\n",
    "from bs4 import BeautifulSoup"
   ]
  },
  {
   "cell_type": "markdown",
   "metadata": {},
   "source": [
    "## BeautifulSoup Basics"
   ]
  },
  {
   "cell_type": "code",
   "execution_count": 3,
   "metadata": {},
   "outputs": [],
   "source": [
    "res = requests.get('https://news.ycombinator.com/news')\n",
    "soup = BeautifulSoup(res.text, 'html.parser')\n",
    "# print(soup.body)  # returns the body of the page\n",
    "# print(soup.body.contents)  # returns contents in body as list\n",
    "\n",
    "# print(soup.find_all('div'))  # retuns all the divs as a list\n",
    "# print(soup.find(id=\"score_20514755\"))  # find element by id"
   ]
  },
  {
   "cell_type": "code",
   "execution_count": 4,
   "metadata": {},
   "outputs": [
    {
     "name": "stdout",
     "output_type": "stream",
     "text": [
      "[<span class=\"score\" id=\"score_23666950\">357 points</span>, <span class=\"score\" id=\"score_23667688\">55 points</span>, <span class=\"score\" id=\"score_23668626\">21 points</span>, <span class=\"score\" id=\"score_23668507\">5 points</span>, <span class=\"score\" id=\"score_23666999\">190 points</span>, <span class=\"score\" id=\"score_23668110\">111 points</span>, <span class=\"score\" id=\"score_23664067\">852 points</span>, <span class=\"score\" id=\"score_23667908\">19 points</span>, <span class=\"score\" id=\"score_23662540\">78 points</span>, <span class=\"score\" id=\"score_23660123\">44 points</span>, <span class=\"score\" id=\"score_23664900\">116 points</span>, <span class=\"score\" id=\"score_23661278\">286 points</span>, <span class=\"score\" id=\"score_23661160\">90 points</span>, <span class=\"score\" id=\"score_23662443\">109 points</span>, <span class=\"score\" id=\"score_23666364\">80 points</span>, <span class=\"score\" id=\"score_23665731\">70 points</span>, <span class=\"score\" id=\"score_23667675\">78 points</span>, <span class=\"score\" id=\"score_23664129\">360 points</span>, <span class=\"score\" id=\"score_23663071\">415 points</span>, <span class=\"score\" id=\"score_23658721\">565 points</span>, <span class=\"score\" id=\"score_23666564\">47 points</span>, <span class=\"score\" id=\"score_23663878\">464 points</span>, <span class=\"score\" id=\"score_23660898\">47 points</span>, <span class=\"score\" id=\"score_23668259\">8 points</span>, <span class=\"score\" id=\"score_23665330\">183 points</span>, <span class=\"score\" id=\"score_23662241\">394 points</span>, <span class=\"score\" id=\"score_23659917\">33 points</span>, <span class=\"score\" id=\"score_23664814\">192 points</span>, <span class=\"score\" id=\"score_23668365\">5 points</span>, <span class=\"score\" id=\"score_23661808\">373 points</span>]\n"
     ]
    }
   ],
   "source": [
    "print(soup.select('.score'))  # grab via css selector (class = score)"
   ]
  },
  {
   "cell_type": "code",
   "execution_count": 5,
   "metadata": {},
   "outputs": [
    {
     "name": "stdout",
     "output_type": "stream",
     "text": [
      "<span class=\"score\" id=\"score_23666950\">357 points</span>\n"
     ]
    }
   ],
   "source": [
    "links = soup.select('.storylink')\n",
    "votes = soup.select('.score')\n",
    "print(votes[0])"
   ]
  },
  {
   "cell_type": "code",
   "execution_count": 6,
   "metadata": {},
   "outputs": [
    {
     "data": {
      "text/plain": [
       "'score_23666950'"
      ]
     },
     "execution_count": 6,
     "metadata": {},
     "output_type": "execute_result"
    }
   ],
   "source": [
    "votes[0].get('id')"
   ]
  },
  {
   "cell_type": "markdown",
   "metadata": {},
   "source": [
    "We can chain these"
   ]
  },
  {
   "cell_type": "code",
   "execution_count": 7,
   "metadata": {},
   "outputs": [
    {
     "name": "stdout",
     "output_type": "stream",
     "text": [
      "[{'link': 'https://github.com/foambubble/foam',\n",
      "  'title': 'Foam – A Roam Research alternative with VSCode, Markdown and '\n",
      "           'GitHub',\n",
      "  'votes': 357},\n",
      " {'link': 'https://www.sankalpjonna.com/posts/our-aws-bill-is-2-of-revenue-heres-how-we-did-it',\n",
      "  'title': 'How we got our AWS bill to around 2% of revenue',\n",
      "  'votes': 190},\n",
      " {'link': 'https://www.buzzfeednews.com/article/danvergano/cdc-coronavirus-containment-redfield',\n",
      "  'title': 'The CDC lost control of the coronavirus pandemic, then the agency '\n",
      "           'disappeared',\n",
      "  'votes': 111},\n",
      " {'link': 'https://dev.lemmy.ml/post/35293',\n",
      "  'title': 'Lemmy, an open-source federated Reddit alternative, gets funding '\n",
      "           'for development',\n",
      "  'votes': 852},\n",
      " {'link': 'https://paulromer.net/fda_perpetual_process_machine/',\n",
      "  'title': \"The FDA's perpetual process machine\",\n",
      "  'votes': 116},\n",
      " {'link': 'http://news.mit.edu/2020/astronomers-rhythm-radio-waves-0617',\n",
      "  'title': 'Astronomers detect regular rhythm of radio waves, with origins '\n",
      "           'unknown',\n",
      "  'votes': 286},\n",
      " {'link': 'https://cturt.github.io/freedvdboot.html',\n",
      "  'title': 'FreeDVDBoot – Hacking the Playstation 2 through its DVD player',\n",
      "  'votes': 109},\n",
      " {'link': 'https://github.com/maxgoedjen/secretive',\n",
      "  'title': 'Secretive – macOS native app to store SSH keys in the Secure '\n",
      "           'Enclave',\n",
      "  'votes': 360},\n",
      " {'link': 'https://jvns.ca/blog/2014/09/27/how-does-sqlite-work-part-1-pages/',\n",
      "  'title': 'How Does Sqlite Work? (2014)',\n",
      "  'votes': 415},\n",
      " {'link': 'https://unim.press/#dataisbeautiful',\n",
      "  'title': 'Show HN: A Reddit reader that looks like the frontpage of a print '\n",
      "           'newspaper',\n",
      "  'votes': 565},\n",
      " {'link': 'https://raphlinus.github.io/xi/2020/06/27/xi-retrospective.html',\n",
      "  'title': 'Xi-Editor Retrospective',\n",
      "  'votes': 464},\n",
      " {'link': 'https://aeon.co/essays/why-its-time-to-take-alternatives-to-dark-matter-seriously',\n",
      "  'title': \"It's time to take alternatives to dark matter seriously\",\n",
      "  'votes': 183},\n",
      " {'link': 'https://mobile.reuters.com/article/idUSKBN23X2TN',\n",
      "  'title': 'Sensors detect rise in nuclear particles on Baltic Sea',\n",
      "  'votes': 394},\n",
      " {'link': 'https://github.com/jamesroutley/24a2',\n",
      "  'title': '24a2: An ultra-minimalist game engine',\n",
      "  'votes': 192},\n",
      " {'link': 'https://www.anfractuosity.com/projects/rainbow/',\n",
      "  'title': 'Show HN: Rainbow – an attempt to display colour on a B&W monitor',\n",
      "  'votes': 373}]\n"
     ]
    }
   ],
   "source": [
    "import pprint\n",
    "\n",
    "hn_links = soup.select('.storylink')\n",
    "hn_subtext = soup.select('.subtext')\n",
    "\n",
    "\n",
    "def create_custom_hn(links, subtext):\n",
    "    hn = []\n",
    "    for index, item in enumerate(links):\n",
    "        title = item.getText()\n",
    "        href = item.get('href', None)\n",
    "        vote = subtext[index].select('.score')\n",
    "        if len(vote):\n",
    "            points = int(vote[0].getText().replace(' points', ''))\n",
    "            if points > 99:\n",
    "                hn.append({'title': title, 'link': href, 'votes': points})\n",
    "    return hn\n",
    "\n",
    "data = create_custom_hn(hn_links, hn_subtext)\n",
    "pprint.pprint(data)"
   ]
  },
  {
   "cell_type": "code",
   "execution_count": 8,
   "metadata": {},
   "outputs": [
    {
     "name": "stdout",
     "output_type": "stream",
     "text": [
      "[{'link': 'https://dev.lemmy.ml/post/35293',\n",
      "  'title': 'Lemmy, an open-source federated Reddit alternative, gets funding '\n",
      "           'for development',\n",
      "  'votes': 852},\n",
      " {'link': 'https://unim.press/#dataisbeautiful',\n",
      "  'title': 'Show HN: A Reddit reader that looks like the frontpage of a print '\n",
      "           'newspaper',\n",
      "  'votes': 565},\n",
      " {'link': 'https://raphlinus.github.io/xi/2020/06/27/xi-retrospective.html',\n",
      "  'title': 'Xi-Editor Retrospective',\n",
      "  'votes': 464},\n",
      " {'link': 'https://jvns.ca/blog/2014/09/27/how-does-sqlite-work-part-1-pages/',\n",
      "  'title': 'How Does Sqlite Work? (2014)',\n",
      "  'votes': 415},\n",
      " {'link': 'https://mobile.reuters.com/article/idUSKBN23X2TN',\n",
      "  'title': 'Sensors detect rise in nuclear particles on Baltic Sea',\n",
      "  'votes': 394},\n",
      " {'link': 'https://www.anfractuosity.com/projects/rainbow/',\n",
      "  'title': 'Show HN: Rainbow – an attempt to display colour on a B&W monitor',\n",
      "  'votes': 373},\n",
      " {'link': 'https://github.com/maxgoedjen/secretive',\n",
      "  'title': 'Secretive – macOS native app to store SSH keys in the Secure '\n",
      "           'Enclave',\n",
      "  'votes': 360},\n",
      " {'link': 'https://github.com/foambubble/foam',\n",
      "  'title': 'Foam – A Roam Research alternative with VSCode, Markdown and '\n",
      "           'GitHub',\n",
      "  'votes': 357},\n",
      " {'link': 'http://news.mit.edu/2020/astronomers-rhythm-radio-waves-0617',\n",
      "  'title': 'Astronomers detect regular rhythm of radio waves, with origins '\n",
      "           'unknown',\n",
      "  'votes': 286},\n",
      " {'link': 'https://github.com/jamesroutley/24a2',\n",
      "  'title': '24a2: An ultra-minimalist game engine',\n",
      "  'votes': 192},\n",
      " {'link': 'https://www.sankalpjonna.com/posts/our-aws-bill-is-2-of-revenue-heres-how-we-did-it',\n",
      "  'title': 'How we got our AWS bill to around 2% of revenue',\n",
      "  'votes': 190},\n",
      " {'link': 'https://aeon.co/essays/why-its-time-to-take-alternatives-to-dark-matter-seriously',\n",
      "  'title': \"It's time to take alternatives to dark matter seriously\",\n",
      "  'votes': 183},\n",
      " {'link': 'https://paulromer.net/fda_perpetual_process_machine/',\n",
      "  'title': \"The FDA's perpetual process machine\",\n",
      "  'votes': 116},\n",
      " {'link': 'https://www.buzzfeednews.com/article/danvergano/cdc-coronavirus-containment-redfield',\n",
      "  'title': 'The CDC lost control of the coronavirus pandemic, then the agency '\n",
      "           'disappeared',\n",
      "  'votes': 111},\n",
      " {'link': 'https://cturt.github.io/freedvdboot.html',\n",
      "  'title': 'FreeDVDBoot – Hacking the Playstation 2 through its DVD player',\n",
      "  'votes': 109}]\n"
     ]
    }
   ],
   "source": [
    "def sort_stories_by_votes(hnlist):\n",
    "    return sorted(hnlist, key=lambda k: k['votes'], reverse=True)\n",
    "\n",
    "\n",
    "def create_custom_hn(links, subtext):\n",
    "    hn = []\n",
    "    for index, item in enumerate(links):\n",
    "        title = item.getText()\n",
    "        href = item.get('href', None)\n",
    "        vote = subtext[index].select('.score')\n",
    "        if len(vote):\n",
    "            points = int(vote[0].getText().replace(' points', ''))\n",
    "            if points > 99:\n",
    "                hn.append({'title': title, 'link': href, 'votes': points})\n",
    "    return sort_stories_by_votes(hn)\n",
    "\n",
    "\n",
    "data = create_custom_hn(hn_links, hn_subtext)\n",
    "pprint.pprint(data)"
   ]
  },
  {
   "cell_type": "markdown",
   "metadata": {},
   "source": [
    "[HackerNews Scraper repo](https://github.com/hungrypc/python-scraper-hackernews)"
   ]
  }
 ],
 "metadata": {
  "kernelspec": {
   "display_name": "Python 3",
   "language": "python",
   "name": "python3"
  },
  "language_info": {
   "codemirror_mode": {
    "name": "ipython",
    "version": 3
   },
   "file_extension": ".py",
   "mimetype": "text/x-python",
   "name": "python",
   "nbconvert_exporter": "python",
   "pygments_lexer": "ipython3",
   "version": "3.7.6"
  }
 },
 "nbformat": 4,
 "nbformat_minor": 4
}
