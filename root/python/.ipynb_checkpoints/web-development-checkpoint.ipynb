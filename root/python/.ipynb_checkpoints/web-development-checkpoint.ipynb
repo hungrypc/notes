{
 "cells": [
  {
   "cell_type": "markdown",
   "metadata": {},
   "source": [
    "# Web Development with Python\n",
    "\n",
    "```cli\n",
    "python3 venv venv\n",
    ". venv/bin/activate\n",
    "```\n",
    "\n",
    "[Flask Docs](https://flask.palletsprojects.com/en/1.1.x/)"
   ]
  },
  {
   "cell_type": "code",
   "execution_count": null,
   "metadata": {},
   "outputs": [],
   "source": [
    "from flask import Flask\n",
    "app = Flask(__name__)\n",
    "\n",
    "@app.route('/')\n",
    "def hello_world():\n",
    "  return 'Hello, World!'"
   ]
  },
  {
   "cell_type": "markdown",
   "metadata": {},
   "source": [
    "```cli\n",
    "export FLASK_APP=server.py\n",
    "flask run\n",
    "* Running on http://127.0.0.1:5000/\n",
    "```\n",
    "\n",
    "Debug Mode:\n",
    "```cli\n",
    "export FLASK_ENV=development\n",
    "flask run\n",
    "```"
   ]
  },
  {
   "cell_type": "code",
   "execution_count": null,
   "metadata": {},
   "outputs": [],
   "source": [
    "# create folder templates, move index.html to templates folder\n",
    "\n",
    "from flask import Flask, render_template\n",
    "app = Flask(__name__)\n",
    "\n",
    "@app.route('/')\n",
    "def hello_world():\n",
    "  return render_template('./index.html')\n"
   ]
  },
  {
   "cell_type": "markdown",
   "metadata": {},
   "source": [
    "create folder static, move css and js files there\n",
    "\n",
    "`<link rel=\"shortcut icon\" href=\"{{ url_for('static', filename='favicon.ico') }}\">`\n",
    "\n",
    "When using Flask, `{{ }}` runs whatever python expression within the brackets as python. "
   ]
  },
  {
   "cell_type": "markdown",
   "metadata": {},
   "source": [
    "### Variable Rules\n",
    "These allow us to make things more dynamic:"
   ]
  },
  {
   "cell_type": "code",
   "execution_count": null,
   "metadata": {},
   "outputs": [],
   "source": [
    "# eg.\n",
    "@app.route('user/<username>')\n",
    "def show_user_profile(username):\n",
    "    return 'User %s' % escape(username)\n",
    "\n",
    "@app.route('post/<int:post_id>')\n",
    "def show_post(post_id):\n",
    "    return 'Post %s' % post_id\n",
    "\n",
    "# so\n",
    "\n",
    "@app.route('/<username>')\n",
    "def hello_world(username):\n",
    "  return render_template('index.html', name=username)"
   ]
  },
  {
   "cell_type": "markdown",
   "metadata": {},
   "source": [
    "```html\n",
    "<body>\n",
    "  {{ name }}\n",
    "</body>\n",
    "```"
   ]
  },
  {
   "cell_type": "markdown",
   "metadata": {},
   "source": [
    "Dynamic html loading:"
   ]
  },
  {
   "cell_type": "code",
   "execution_count": null,
   "metadata": {},
   "outputs": [],
   "source": [
    "@app.route('/<string:page_name>')\n",
    "def html_page(page_name):\n",
    "  return render_template(page_name + '.html')"
   ]
  },
  {
   "cell_type": "markdown",
   "metadata": {},
   "source": [
    "Post requests\n",
    "\n",
    "```html\n",
    "<form action=\"submit_form\" method=\"post\" class=\"reveal-content\">\n",
    "```"
   ]
  },
  {
   "cell_type": "code",
   "execution_count": null,
   "metadata": {},
   "outputs": [],
   "source": [
    "@app.route('/submit_form', method=['POST', 'GET'])\n",
    "def submit_form():\n",
    "  if request.method == 'POST':\n",
    "    data = request.form.to_dict()\n",
    "    print(data)\n",
    "    return 'form submitted'\n",
    "  else:\n",
    "    return 'something went wrong'"
   ]
  }
 ],
 "metadata": {
  "kernelspec": {
   "display_name": "Python 3",
   "language": "python",
   "name": "python3"
  },
  "language_info": {
   "codemirror_mode": {
    "name": "ipython",
    "version": 3
   },
   "file_extension": ".py",
   "mimetype": "text/x-python",
   "name": "python",
   "nbconvert_exporter": "python",
   "pygments_lexer": "ipython3",
   "version": "3.7.6"
  }
 },
 "nbformat": 4,
 "nbformat_minor": 4
}
