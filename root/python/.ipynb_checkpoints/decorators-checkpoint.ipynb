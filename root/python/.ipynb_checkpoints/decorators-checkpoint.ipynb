{
 "cells": [
  {
   "cell_type": "markdown",
   "metadata": {},
   "source": [
    "# Decorators\n",
    "\n",
    "In python, functions are first-class citizens (passed as variable, argument in another function). They act like variables."
   ]
  },
  {
   "cell_type": "code",
   "execution_count": 6,
   "metadata": {},
   "outputs": [
    {
     "name": "stdout",
     "output_type": "stream",
     "text": [
      "hey now ur an allstar get ur game on go play\n"
     ]
    }
   ],
   "source": [
    "def hello():\n",
    "    print('hey now ur an allstar get ur game on go play')\n",
    "    \n",
    "greet = hello\n",
    "del hello\n",
    "\n",
    "greet()"
   ]
  },
  {
   "cell_type": "markdown",
   "metadata": {},
   "source": [
    "Even though we've deleted `hello`, greet is a whole other variable that's still pointing to the function in memory. So the name hello is deleted, but the function is not due to being linked to the name `greet`."
   ]
  },
  {
   "cell_type": "markdown",
   "metadata": {},
   "source": [
    "You are also able to pass functions as arguments:"
   ]
  },
  {
   "cell_type": "code",
   "execution_count": 5,
   "metadata": {},
   "outputs": [
    {
     "name": "stdout",
     "output_type": "stream",
     "text": [
      "hey now ur a rockstar get the show on get paid\n"
     ]
    }
   ],
   "source": [
    "def hello(func):\n",
    "    func()\n",
    "    \n",
    "def greet():\n",
    "    print('hey now ur a rockstar get the show on get paid')\n",
    "    \n",
    "a = hello(greet)"
   ]
  },
  {
   "cell_type": "markdown",
   "metadata": {},
   "source": [
    "Higher Order Functions (HOC) can either be a function that accepts another function OR returns another function.\n",
    "\n",
    "Decorators are possible because of these features (first class citizens). They supercharge our functions, and add extra functionality to it."
   ]
  },
  {
   "cell_type": "code",
   "execution_count": 2,
   "metadata": {},
   "outputs": [
    {
     "name": "stdout",
     "output_type": "stream",
     "text": [
      "*******\n",
      "hello\n",
      "*******\n"
     ]
    }
   ],
   "source": [
    "def my_decorator(func):\n",
    "    def wrap_func():\n",
    "        print(\"*******\")\n",
    "        func()\n",
    "        print(\"*******\")\n",
    "    return wrap_func\n",
    "\n",
    "@my_decorator\n",
    "def hello():\n",
    "    print('hello')\n",
    "\n",
    "hello()"
   ]
  },
  {
   "cell_type": "code",
   "execution_count": 10,
   "metadata": {},
   "outputs": [
    {
     "name": "stdout",
     "output_type": "stream",
     "text": [
      "*******\n",
      "heyo 🥰\n",
      "*******\n",
      "*******\n",
      "suh 😎\n",
      "*******\n"
     ]
    }
   ],
   "source": [
    "def my_decorator(func):\n",
    "    def wrap_func(*args, **kwargs):\n",
    "        print(\"*******\")\n",
    "        func(*args, **kwargs)\n",
    "        print(\"*******\")\n",
    "    return wrap_func\n",
    "\n",
    "@my_decorator\n",
    "def hello(greeting, emoji='🥰'):\n",
    "    print(greeting, emoji)\n",
    "\n",
    "hello('heyo')\n",
    "hello('suh', '😎')"
   ]
  },
  {
   "cell_type": "markdown",
   "metadata": {},
   "source": [
    "## Why Do We Need Decorators?"
   ]
  },
  {
   "cell_type": "code",
   "execution_count": 15,
   "metadata": {},
   "outputs": [
    {
     "name": "stdout",
     "output_type": "stream",
     "text": [
      "took 0.006869077682495117 seconds\n"
     ]
    }
   ],
   "source": [
    "from time import time\n",
    "\n",
    "def performance(fn):\n",
    "    def wrapper(*args, **kwargs):\n",
    "        t1 = time()\n",
    "        result = fn(*args, **kwargs)\n",
    "        t2 = time()\n",
    "        print(f'took {t2 - t1} seconds')\n",
    "        return result\n",
    "    return wrapper\n",
    "\n",
    "@performance\n",
    "def long_time():\n",
    "    for i in range(100000):\n",
    "        i*5\n",
    "        \n",
    "long_time()"
   ]
  }
 ],
 "metadata": {
  "kernelspec": {
   "display_name": "Python 3",
   "language": "python",
   "name": "python3"
  },
  "language_info": {
   "codemirror_mode": {
    "name": "ipython",
    "version": 3
   },
   "file_extension": ".py",
   "mimetype": "text/x-python",
   "name": "python",
   "nbconvert_exporter": "python",
   "pygments_lexer": "ipython3",
   "version": "3.7.6"
  }
 },
 "nbformat": 4,
 "nbformat_minor": 4
}
