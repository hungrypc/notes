{
 "cells": [
  {
   "cell_type": "markdown",
   "metadata": {},
   "source": [
    "# File I/O\n",
    "Python has a built in function that allows us to open and write to files."
   ]
  },
  {
   "cell_type": "code",
   "execution_count": 15,
   "metadata": {},
   "outputs": [
    {
     "name": "stdout",
     "output_type": "stream",
     "text": [
      "<_io.TextIOWrapper name='file_name.txt' mode='w+' encoding='UTF-8'>\n",
      "This is line 1\n",
      "This is line 2\n",
      "This is line 3\n",
      "This is line 4\n",
      "This is line 5\n",
      "This is line 6\n",
      "This is line 7\n",
      "This is line 8\n",
      "This is line 9\n",
      "This is line 10\n",
      "\n",
      "This is line 1\n",
      "\n",
      "This is line 2\n",
      "\n",
      "['This is line 3\\n', 'This is line 4\\n', 'This is line 5\\n', 'This is line 6\\n', 'This is line 7\\n', 'This is line 8\\n', 'This is line 9\\n', 'This is line 10\\n']\n"
     ]
    }
   ],
   "source": [
    "# file_object = open(\"file_name\", \"mode\")\n",
    "my_file = open('file_name.txt', \"w+\")  # w+ : write, create if does not exist\n",
    "print(my_file)\n",
    "\n",
    "for i in range(10):\n",
    "     my_file.write(\"This is line %d\\r\\n\" % (i+1))        \n",
    "\n",
    "my_file.seek(0)    # python uses a cursor to read, we have to set index\n",
    "print(my_file.read())\n",
    "\n",
    "my_file.seek(0)\n",
    "print(my_file.readline())\n",
    "print(my_file.readline())\n",
    "print(my_file.readlines())\n",
    "\n",
    "my_file.close()"
   ]
  },
  {
   "cell_type": "code",
   "execution_count": 19,
   "metadata": {},
   "outputs": [
    {
     "name": "stdout",
     "output_type": "stream",
     "text": [
      "['This is line 1\\n', 'This is line 2\\n', 'This is line 3\\n', 'This is line 4\\n', 'This is line 5\\n', 'This is line 6\\n', 'This is line 7\\n', 'This is line 8\\n', 'This is line 9\\n', 'This is line 10\\n']\n"
     ]
    }
   ],
   "source": [
    "with open('file_name.txt') as my_file:\n",
    "    print(my_file.readlines())"
   ]
  },
  {
   "cell_type": "markdown",
   "metadata": {},
   "source": [
    "Doing it this way lets us open without having to `close()` the file."
   ]
  },
  {
   "cell_type": "markdown",
   "metadata": {},
   "source": [
    "Modes\n",
    "- w: write\n",
    "- r: read\n",
    "- r+: read and write\n",
    "- a: append\n",
    "\n",
    "You want to be careful with the mode because some funny overwriting will happen."
   ]
  },
  {
   "cell_type": "markdown",
   "metadata": {},
   "source": [
    "## File I/O Errors\n",
    "Common practice is to use `try`:"
   ]
  },
  {
   "cell_type": "code",
   "execution_count": 23,
   "metadata": {},
   "outputs": [
    {
     "name": "stdout",
     "output_type": "stream",
     "text": [
      "file does not exist\n"
     ]
    }
   ],
   "source": [
    "try:\n",
    "    with open('new_name.txt', mode='r') as my_file:\n",
    "        print(my_file.read())\n",
    "except FileNotFoundError as err:\n",
    "    print('file does not exist')\n",
    "    # raise err\n",
    "except IOError as err:\n",
    "    print('IO error')"
   ]
  },
  {
   "cell_type": "markdown",
   "metadata": {},
   "source": [
    "## Translate Excercise"
   ]
  },
  {
   "cell_type": "code",
   "execution_count": 30,
   "metadata": {},
   "outputs": [
    {
     "name": "stdout",
     "output_type": "stream",
     "text": [
      "이것은 1 행입니다. 2 행입니다. 3 행입니다. 4 행입니다. 5 행입니다. 6 행입니다. 7 행입니다. 8 행입니다. 9 행입니다. 10 행입니다.\n"
     ]
    }
   ],
   "source": [
    "# %pip install translate\n",
    "from translate import Translator\n",
    "\n",
    "translator = Translator(to_lang=\"ko\")\n",
    "try:\n",
    "    with open('file_name.txt', mode='r') as my_file:\n",
    "        text = my_file.read()\n",
    "        translation = translator.translate(text)\n",
    "        print(translation)\n",
    "        with open('file_name-ja.txt', 'w') as my_file2:\n",
    "            my_file2.write(translation)\n",
    "except FileNotFoundError as err:\n",
    "    print('file does not exist')\n",
    "    # raise err\n",
    "except IOError as err:\n",
    "    print('IO error')"
   ]
  }
 ],
 "metadata": {
  "kernelspec": {
   "display_name": "Python 3",
   "language": "python",
   "name": "python3"
  },
  "language_info": {
   "codemirror_mode": {
    "name": "ipython",
    "version": 3
   },
   "file_extension": ".py",
   "mimetype": "text/x-python",
   "name": "python",
   "nbconvert_exporter": "python",
   "pygments_lexer": "ipython3",
   "version": "3.7.6"
  }
 },
 "nbformat": 4,
 "nbformat_minor": 4
}
