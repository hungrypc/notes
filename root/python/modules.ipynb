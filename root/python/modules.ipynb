{
 "cells": [
  {
   "cell_type": "markdown",
   "metadata": {},
   "source": [
    "# Modules in Python"
   ]
  },
  {
   "cell_type": "markdown",
   "metadata": {},
   "source": [
    "Syntax:\n",
    "\n",
    "`from package import function(, function, function)` or `from package import module`\n",
    "\n",
    "If there are nested folders:\n",
    "\n",
    "`from package.package import function`\n",
    "\n",
    "You can import with alias\n",
    "\n",
    "`import module as alias`"
   ]
  },
  {
   "cell_type": "markdown",
   "metadata": {},
   "source": [
    "## name"
   ]
  },
  {
   "cell_type": "code",
   "execution_count": 2,
   "metadata": {},
   "outputs": [
    {
     "name": "stdout",
     "output_type": "stream",
     "text": [
      "__main__\n",
      "this is the main module\n"
     ]
    }
   ],
   "source": [
    "print(__name__)\n",
    "# __main__ is the name given to the file that is run\n",
    "# so a common pattern you'll see a lot is:\n",
    "\n",
    "if __name__ == '__main__':\n",
    "    print('this is the main module')"
   ]
  },
  {
   "cell_type": "markdown",
   "metadata": {},
   "source": [
    "`__name__` gives you the name of the file/module. So if you had this at the top of various imported modules, it will print out the names of those modules."
   ]
  },
  {
   "cell_type": "markdown",
   "metadata": {},
   "source": [
    "## Python Built-in Modules\n",
    "[Python Module Index](https://docs.python.org/3/py-modindex.html)\n",
    "\n",
    "There're a lot of modules provided by python. "
   ]
  },
  {
   "cell_type": "code",
   "execution_count": 3,
   "metadata": {},
   "outputs": [
    {
     "name": "stdout",
     "output_type": "stream",
     "text": [
      "<module 'random' from '/opt/anaconda3/lib/python3.7/random.py'>\n"
     ]
    }
   ],
   "source": [
    "import random\n",
    "\n",
    "print(random)\n",
    "# help(random) will give you more info on the imported module\n",
    "# print(dir(random)) will give you the available functions on the module"
   ]
  },
  {
   "cell_type": "code",
   "execution_count": 8,
   "metadata": {},
   "outputs": [
    {
     "name": "stdout",
     "output_type": "stream",
     "text": [
      "0.7406299279070524\n",
      "8\n",
      "2\n",
      "[3, 4, 2, 1, 5]\n"
     ]
    }
   ],
   "source": [
    "import random\n",
    "\n",
    "print(random.random()) # gives a random number between 0 and 1\n",
    "print(random.randint(1, 10)) # random int between start, finish\n",
    "print(random.choice([1, 2, 3, 4 ,5])) # picks random choice from list\n",
    "\n",
    "my_list = [1, 2, 3, 4, 5]\n",
    "random.shuffle(my_list)  # shuffles in place\n",
    "print(my_list)"
   ]
  },
  {
   "cell_type": "markdown",
   "metadata": {},
   "source": [
    "## Python Built-in Modules pt 2"
   ]
  },
  {
   "cell_type": "markdown",
   "metadata": {},
   "source": [
    "Say on our terminal we want to run files and give it parameters, we do this with:\n",
    "\n",
    "`import sys`\n",
    "\n",
    "`sys.argv`\n",
    "\n",
    "So, on our terminal, we can write something like `python3 main.py phil chan` and access `phil` and `chan` like this:\n",
    "\n",
    "`\n",
    "first = sys.argv[1]\n",
    "last = sys.argv[2]\n",
    "print(f'hello, {first} {last}')\n",
    "`"
   ]
  },
  {
   "cell_type": "markdown",
   "metadata": {},
   "source": [
    "## Exercise: Guessing Game"
   ]
  },
  {
   "cell_type": "code",
   "execution_count": 12,
   "metadata": {},
   "outputs": [
    {
     "name": "stdout",
     "output_type": "stream",
     "text": [
      "guess a number from 1~10:  7\n",
      "wrong answer\n",
      "guess a number from 1~10:  8\n",
      "well done\n"
     ]
    }
   ],
   "source": [
    "from random import randint\n",
    "\n",
    "answer = randint(1, 10)\n",
    "\n",
    "while True:\n",
    "    try:\n",
    "        guess = int(input('guess a number from 1~10:  '))\n",
    "        if 0 < guess < 11:\n",
    "            if guess == answer:\n",
    "                print('well done')\n",
    "                break\n",
    "            else:\n",
    "                print('wrong answer')\n",
    "                continue\n",
    "        else:\n",
    "            print(\"that's not 1~10\")\n",
    "    except ValueError:\n",
    "        print('please enter a valid number')\n",
    "        continue\n",
    "\n",
    "# if we wanted to make this playable through the terminal:\n",
    "# import sys\n",
    "# answer = randint(int(sys.argv[1]), int(sys.argv[2]))\n",
    "# and run "
   ]
  },
  {
   "cell_type": "markdown",
   "metadata": {},
   "source": [
    "## Python Packages\n",
    "\n",
    "[Python Package Index](https://pypi.org/)\n",
    "\n",
    "```\n",
    "pip -V\n",
    "pip3 -V\n",
    "pip3 install --upgrade pip\n",
    "pip3 install package-name\n",
    "pip3 list\n",
    "```\n",
    "\n",
    "Note: For jupyter notebooks: `! pip install package-name --user`"
   ]
  },
  {
   "cell_type": "markdown",
   "metadata": {},
   "source": [
    "## Virtual Environments\n",
    "Lets us be able to have two versions of some package on the same machine and still have different projects using different versions.\n",
    "\n",
    "`pipenv` or `virtualenv` in pycharm."
   ]
  },
  {
   "cell_type": "markdown",
   "metadata": {},
   "source": [
    "## Useful Modules"
   ]
  },
  {
   "cell_type": "code",
   "execution_count": 9,
   "metadata": {},
   "outputs": [
    {
     "name": "stdout",
     "output_type": "stream",
     "text": [
      "Counter({2: 3, 1: 2, 3: 1, 7: 1})\n",
      "does not exist\n",
      "100\n",
      "OrderedDict([('a', 300), ('b', 400)])\n"
     ]
    }
   ],
   "source": [
    "from collections import Counter, defaultdict, OrderedDict\n",
    "\n",
    "li = [1, 2, 1, 3, 2, 2, 7]\n",
    "print(Counter(li))  # frequency counter, works with str\n",
    "\n",
    "dictionary = defaultdict(lambda: 'does not exist', {'a': 100, 'b': 200})\n",
    "# requires a default value via function\n",
    "print(dictionary['c'])\n",
    "print(dictionary['a'])\n",
    "\n",
    "d = OrderedDict()\n",
    "d['a'] = 300\n",
    "d['b'] = 400\n",
    "print(d)"
   ]
  },
  {
   "cell_type": "code",
   "execution_count": 12,
   "metadata": {},
   "outputs": [
    {
     "name": "stdout",
     "output_type": "stream",
     "text": [
      "00:00:00\n",
      "04:45:31\n",
      "2020-06-20\n"
     ]
    }
   ],
   "source": [
    "import datetime \n",
    "\n",
    "print(datetime.time())\n",
    "print(datetime.time(4, 45, 31))\n",
    "print(datetime.date.today())"
   ]
  },
  {
   "cell_type": "code",
   "execution_count": 14,
   "metadata": {},
   "outputs": [
    {
     "name": "stdout",
     "output_type": "stream",
     "text": [
      "array('i', [1, 2, 3])\n",
      "1\n"
     ]
    }
   ],
   "source": [
    "from array import array\n",
    "\n",
    "# arrays take up less memory than lists and are much faster\n",
    "# because when we create an array, it SETS how much memory to use\n",
    "\n",
    "arr = array('i', [1, 2, 3])\n",
    "print(arr)\n",
    "print(arr[0])"
   ]
  },
  {
   "cell_type": "markdown",
   "metadata": {},
   "source": [
    "[more on python arrays](https://docs.python.org/3/library/array.html)"
   ]
  }
 ],
 "metadata": {
  "kernelspec": {
   "display_name": "Python 3",
   "language": "python",
   "name": "python3"
  },
  "language_info": {
   "codemirror_mode": {
    "name": "ipython",
    "version": 3
   },
   "file_extension": ".py",
   "mimetype": "text/x-python",
   "name": "python",
   "nbconvert_exporter": "python",
   "pygments_lexer": "ipython3",
   "version": "3.7.6"
  }
 },
 "nbformat": 4,
 "nbformat_minor": 4
}
