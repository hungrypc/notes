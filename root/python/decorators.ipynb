{
 "cells": [
  {
   "cell_type": "markdown",
   "metadata": {},
   "source": [
    "# Decorators\n",
    "\n",
    "In python, functions are first-class citizens (passed as variable, argument in another function). They act like variables."
   ]
  },
  {
   "cell_type": "code",
   "execution_count": 6,
   "metadata": {},
   "outputs": [
    {
     "name": "stdout",
     "output_type": "stream",
     "text": [
      "hey now ur an allstar get ur game on go play\n"
     ]
    }
   ],
   "source": [
    "def hello():\n",
    "    print('hey now ur an allstar get ur game on go play')\n",
    "    \n",
    "greet = hello\n",
    "del hello\n",
    "\n",
    "greet()"
   ]
  },
  {
   "cell_type": "markdown",
   "metadata": {},
   "source": [
    "Even though we've deleted `hello`, greet is a whole other variable that's still pointing to the function in memory. So the name hello is deleted, but the function is not due to being linked to the name `greet`."
   ]
  },
  {
   "cell_type": "markdown",
   "metadata": {},
   "source": [
    "You are also able to pass functions as arguments:"
   ]
  },
  {
   "cell_type": "code",
   "execution_count": 5,
   "metadata": {},
   "outputs": [
    {
     "name": "stdout",
     "output_type": "stream",
     "text": [
      "hey now ur a rockstar get the show on get paid\n"
     ]
    }
   ],
   "source": [
    "def hello(func):\n",
    "    func()\n",
    "    \n",
    "def greet():\n",
    "    print('hey now ur a rockstar get the show on get paid')\n",
    "    \n",
    "a = hello(greet)"
   ]
  },
  {
   "cell_type": "markdown",
   "metadata": {},
   "source": [
    "Higher Order Functions (HOC) can either be a function that accepts another function OR returns another function.\n",
    "\n",
    "Decorators are possible because of these features (first class citizens). They supercharge our functions, and add extra functionality to it."
   ]
  },
  {
   "cell_type": "code",
   "execution_count": null,
   "metadata": {},
   "outputs": [],
   "source": []
  }
 ],
 "metadata": {
  "kernelspec": {
   "display_name": "Python 3",
   "language": "python",
   "name": "python3"
  },
  "language_info": {
   "codemirror_mode": {
    "name": "ipython",
    "version": 3
   },
   "file_extension": ".py",
   "mimetype": "text/x-python",
   "name": "python",
   "nbconvert_exporter": "python",
   "pygments_lexer": "ipython3",
   "version": "3.7.6"
  }
 },
 "nbformat": 4,
 "nbformat_minor": 4
}
