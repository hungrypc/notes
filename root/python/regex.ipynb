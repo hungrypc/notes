{
 "cells": [
  {
   "cell_type": "markdown",
   "metadata": {},
   "source": [
    "# Regular Expressions"
   ]
  },
  {
   "cell_type": "code",
   "execution_count": 10,
   "metadata": {},
   "outputs": [
    {
     "name": "stdout",
     "output_type": "stream",
     "text": [
      "True\n",
      "<re.Match object; span=(0, 4), match='this'>\n",
      "(0, 4)\n",
      "0\n",
      "4\n",
      "this\n",
      "<re.Match object; span=(0, 4), match='this'>\n",
      "['this', 'this']\n",
      "None\n",
      "<re.Match object; span=(0, 4), match='this'>\n"
     ]
    }
   ],
   "source": [
    "import re\n",
    "\n",
    "string = 'this, search inside this text please'\n",
    "\n",
    "# simple solution\n",
    "print('search' in string)\n",
    "\n",
    "a = re.search('this', string)\n",
    "print(a)\n",
    "print(a.span())   # range\n",
    "print(a.start())  # where it starts\n",
    "print(a.end())    # where it ends\n",
    "print(a.group())  # returns part that was the match\n",
    "\n",
    "pattern = re.compile('this')\n",
    "b = pattern.search(string)\n",
    "print(b)\n",
    "\n",
    "c = pattern.findall(string)\n",
    "print(c)\n",
    "\n",
    "d = pattern.fullmatch(string)   # EXACT matches, not just substring\n",
    "print(d)\n",
    "\n",
    "e = pattern.match(string)  # match from start, doesn't care about after\n",
    "print(e)"
   ]
  },
  {
   "cell_type": "markdown",
   "metadata": {},
   "source": [
    "With RegEx, you can do some crazy patterns."
   ]
  },
  {
   "cell_type": "code",
   "execution_count": 14,
   "metadata": {},
   "outputs": [
    {
     "name": "stdout",
     "output_type": "stream",
     "text": [
      "<re.Match object; span=(6, 9), match='w a'>\n",
      "w\n"
     ]
    }
   ],
   "source": [
    "import re\n",
    "\n",
    "regex = r'([a-zA-Z]).([a])'\n",
    "# . stand for any character thats not a line break\n",
    "# so this regex is looking for <any letter><any char><'a'>\n",
    "\n",
    "string = 'hey how are you'\n",
    "pattern = re.compile(regex)\n",
    "\n",
    "a = pattern.search(string)\n",
    "print(a)\n",
    "print(a.group(1))"
   ]
  },
  {
   "cell_type": "markdown",
   "metadata": {},
   "source": [
    "[Interactive RegEx](https://regexone.com/)\n",
    "\n",
    "[RegEx playground](https://regex101.com/)"
   ]
  },
  {
   "cell_type": "code",
   "execution_count": 17,
   "metadata": {},
   "outputs": [
    {
     "name": "stdout",
     "output_type": "stream",
     "text": [
      "<re.Match object; span=(0, 21), match='exAmple+-._@email.com'>\n"
     ]
    }
   ],
   "source": [
    "import re\n",
    "\n",
    "# email check regex\n",
    "regex = r\"(^[a-zA-Z0-9_.+-]+@[a-zA-Z0-9-]+\\.[a-zA-Z0-9-.]+$)\"\n",
    "\n",
    "string = 'exAmple+-._@email.com'\n",
    "\n",
    "pattern = re.compile(regex)\n",
    "\n",
    "a = pattern.match(string)\n",
    "print(a)"
   ]
  },
  {
   "cell_type": "code",
   "execution_count": 19,
   "metadata": {},
   "outputs": [
    {
     "name": "stdout",
     "output_type": "stream",
     "text": [
      "<re.Match object; span=(0, 18), match='thisIsAp4assWord!.'>\n"
     ]
    }
   ],
   "source": [
    "import re\n",
    "\n",
    "# password check regex exercise (create from scratch)\n",
    "regex = r\"[a-zA-z0-9$%#!._+=-]{8,}\"\n",
    "\n",
    "string = 'thisIsAp4assWord!.'\n",
    "\n",
    "pattern = re.compile(regex)\n",
    "\n",
    "a = pattern.match(string)\n",
    "print(a)"
   ]
  }
 ],
 "metadata": {
  "kernelspec": {
   "display_name": "Python 3",
   "language": "python",
   "name": "python3"
  },
  "language_info": {
   "codemirror_mode": {
    "name": "ipython",
    "version": 3
   },
   "file_extension": ".py",
   "mimetype": "text/x-python",
   "name": "python",
   "nbconvert_exporter": "python",
   "pygments_lexer": "ipython3",
   "version": "3.7.6"
  }
 },
 "nbformat": 4,
 "nbformat_minor": 4
}
