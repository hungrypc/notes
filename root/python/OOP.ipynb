{
 "cells": [
  {
   "cell_type": "markdown",
   "metadata": {},
   "source": [
    "# Advanced Python: OOP"
   ]
  },
  {
   "cell_type": "markdown",
   "metadata": {},
   "source": [
    "##  Creating Our Own Objects"
   ]
  },
  {
   "cell_type": "code",
   "execution_count": 4,
   "metadata": {},
   "outputs": [
    {
     "name": "stdout",
     "output_type": "stream",
     "text": [
      "HeroName\n",
      "run\n"
     ]
    }
   ],
   "source": [
    "class PlayerCharacter:\n",
    "    def __init__(self, name):\n",
    "        self.name = name\n",
    "        \n",
    "    def run(self):\n",
    "        print('run')\n",
    "        \n",
    "\n",
    "player1 = PlayerCharacter('HeroName')\n",
    "\n",
    "print(player1.name)\n",
    "player1.run()"
   ]
  },
  {
   "cell_type": "markdown",
   "metadata": {},
   "source": [
    "## Attributes and Methods"
   ]
  },
  {
   "cell_type": "code",
   "execution_count": 19,
   "metadata": {},
   "outputs": [
    {
     "name": "stdout",
     "output_type": "stream",
     "text": [
      "membership status:  True\n",
      "hello, my name is Hero\n"
     ]
    }
   ],
   "source": [
    "class PlayerCharacter:\n",
    "    membership = True   # class object attribute (static)\n",
    "    def __init__(self, name='anonymous', health='100'):\n",
    "        self.name = name   # regular class attribute\n",
    "        self.health = health\n",
    "        \n",
    "    def shout(self, greeting):\n",
    "        print(f'{greeting}, my name is {self.name}')\n",
    "        \n",
    "player = PlayerCharacter('Hero', 150)\n",
    "\n",
    "print('membership status: ', player.membership)\n",
    "player.shout('hello')"
   ]
  },
  {
   "cell_type": "markdown",
   "metadata": {},
   "source": [
    "## @classmethod and @staticmethod"
   ]
  },
  {
   "cell_type": "code",
   "execution_count": 42,
   "metadata": {},
   "outputs": [
    {
     "name": "stdout",
     "output_type": "stream",
     "text": [
      "GOD summoned Human\n",
      "Human unable to summon GOD\n"
     ]
    }
   ],
   "source": [
    "class PlayerCharacter:\n",
    "    membership = True   # class object attribute (static)\n",
    "    def __init__(self, name='anonymous', health='100'):\n",
    "        self.name = name   # regular class attribute\n",
    "        self.health = health\n",
    "        \n",
    "    @classmethod\n",
    "    def summon(cls, self, being, health):\n",
    "        if self.name != 'GOD':\n",
    "            print(f'{self.name} unable to summon {being}')\n",
    "            return None\n",
    "        else:    \n",
    "            print(f'{self.name} summoned {being}')\n",
    "            return cls(being, health)\n",
    "\n",
    "god = PlayerCharacter('GOD', 1000000000)\n",
    "\n",
    "human = god.summon(god, 'Human', 10)\n",
    "\n",
    "new_god = human.summon(human, 'GOD', 5)"
   ]
  },
  {
   "cell_type": "markdown",
   "metadata": {},
   "source": [
    "We have to add cls because class methods take a hidden arg: class. With this, we can actually instantiate a class in the method."
   ]
  },
  {
   "cell_type": "code",
   "execution_count": 37,
   "metadata": {},
   "outputs": [
    {
     "name": "stdout",
     "output_type": "stream",
     "text": [
      "5\n"
     ]
    }
   ],
   "source": [
    "class SimpleClass:\n",
    "    def __init__(self, name='anonymous'):\n",
    "        self.name = name \n",
    "        \n",
    "    @staticmethod\n",
    "    def adding_things(num1, num2):\n",
    "        return num1 + num2\n",
    "        \n",
    "temp = SimpleClass('decorator example')\n",
    "\n",
    "print(temp.adding_things(2, 3))"
   ]
  },
  {
   "cell_type": "markdown",
   "metadata": {},
   "source": [
    "Static methods work the same, except without access to cls. Instead, it's just regular methods that have nothing to do with the class state."
   ]
  },
  {
   "cell_type": "code",
   "execution_count": null,
   "metadata": {},
   "outputs": [],
   "source": []
  }
 ],
 "metadata": {
  "kernelspec": {
   "display_name": "Python 3",
   "language": "python",
   "name": "python3"
  },
  "language_info": {
   "codemirror_mode": {
    "name": "ipython",
    "version": 3
   },
   "file_extension": ".py",
   "mimetype": "text/x-python",
   "name": "python",
   "nbconvert_exporter": "python",
   "pygments_lexer": "ipython3",
   "version": "3.7.6"
  }
 },
 "nbformat": 4,
 "nbformat_minor": 4
}
