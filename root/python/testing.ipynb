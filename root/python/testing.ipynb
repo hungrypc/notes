{
 "cells": [
  {
   "cell_type": "markdown",
   "metadata": {},
   "source": [
    "# Testing in Python"
   ]
  },
  {
   "cell_type": "code",
   "execution_count": 13,
   "metadata": {},
   "outputs": [
    {
     "name": "stderr",
     "output_type": "stream",
     "text": [
      "..\n",
      "----------------------------------------------------------------------\n",
      "Ran 2 tests in 0.002s\n",
      "\n",
      "OK\n"
     ]
    }
   ],
   "source": [
    "import unittest\n",
    "\n",
    "def add_five(num):\n",
    "    try:\n",
    "        return int(num + 5)\n",
    "    except TypeError as err:\n",
    "        raise err\n",
    "\n",
    "class TestMain(unittest.TestCase):\n",
    "    def test_add_five(self):        \n",
    "        test_param = 10\n",
    "        result = add_five(test_param)\n",
    "        self.assertEqual(result, 15)\n",
    "        \n",
    "    def test_add_five2(self):\n",
    "        test_param = 'fdasf'\n",
    "        with self.assertRaises(TypeError):\n",
    "            result = add_five(test_param)\n",
    "        \n",
    "        \n",
    "if __name__ == '__main__':\n",
    "#     unittest.main()  # usually, it's run like this, but in notebook:\n",
    "    unittest.main(argv=['first-arg-is-ignored'], exit=False)"
   ]
  },
  {
   "cell_type": "markdown",
   "metadata": {},
   "source": [
    "[unittest doc](https://docs.python.org/3/library/unittest.html)"
   ]
  },
  {
   "cell_type": "markdown",
   "metadata": {},
   "source": [
    "`python3 -m unittest` runs all tests in unison via cli\n",
    "\n",
    "`python3 -m unittest -v` gives a little more info on each test"
   ]
  },
  {
   "cell_type": "code",
   "execution_count": 20,
   "metadata": {},
   "outputs": [
    {
     "name": "stderr",
     "output_type": "stream",
     "text": [
      "test_add_five (__main__.TestMain)\n",
      "you can add comments like this ... ok\n",
      "test_add_five2 (__main__.TestMain) ... "
     ]
    },
    {
     "name": "stdout",
     "output_type": "stream",
     "text": [
      "about to test a function\n",
      "cleaning up\n",
      "about to test a function\n",
      "cleaning up\n"
     ]
    },
    {
     "name": "stderr",
     "output_type": "stream",
     "text": [
      "ok\n",
      "\n",
      "----------------------------------------------------------------------\n",
      "Ran 2 tests in 0.002s\n",
      "\n",
      "OK\n"
     ]
    }
   ],
   "source": [
    "import unittest\n",
    "\n",
    "def add_five(num):\n",
    "    try:\n",
    "        return int(num + 5)\n",
    "    except TypeError as err:\n",
    "        raise err\n",
    "\n",
    "class TestMain(unittest.TestCase):\n",
    "    def setUp(self):\n",
    "        print('about to test a function')\n",
    "        \n",
    "    def test_add_five(self):    \n",
    "        '''you can add comments like this'''\n",
    "        test_param = 10\n",
    "        result = add_five(test_param)\n",
    "        self.assertEqual(result, 15)\n",
    "        \n",
    "    def test_add_five2(self):\n",
    "        test_param = 'fdasf'\n",
    "        with self.assertRaises(TypeError):\n",
    "            result = add_five(test_param)\n",
    "            \n",
    "    def tearDown(self):\n",
    "        print('cleaning up')\n",
    "        \n",
    "        \n",
    "if __name__ == '__main__':\n",
    "    unittest.main(argv=['first-arg-is-ignored', '-v'], exit=False)"
   ]
  },
  {
   "cell_type": "markdown",
   "metadata": {},
   "source": [
    "## Exercise: Testing Guess Game"
   ]
  },
  {
   "cell_type": "code",
   "execution_count": 6,
   "metadata": {},
   "outputs": [
    {
     "name": "stderr",
     "output_type": "stream",
     "text": [
      "test_input (__main__.TestGame) ... ok\n",
      "test_input_wrong_guess (__main__.TestGame) ... ok\n",
      "test_input_wrong_number (__main__.TestGame) ... ok\n",
      "test_input_wrong_type (__main__.TestGame) ... "
     ]
    },
    {
     "name": "stdout",
     "output_type": "stream",
     "text": [
      "well done\n"
     ]
    },
    {
     "name": "stderr",
     "output_type": "stream",
     "text": [
      "ok\n",
      "\n",
      "----------------------------------------------------------------------\n",
      "Ran 4 tests in 0.003s\n",
      "\n",
      "OK\n"
     ]
    }
   ],
   "source": [
    "import unittest\n",
    "from random import randint\n",
    "\n",
    "def run_guess(guess, answer):\n",
    "    if 0 < guess < 11:\n",
    "        if guess == answer:\n",
    "            print('well done')\n",
    "            return True\n",
    "    else:\n",
    "        print(\"that's not 1~10\")\n",
    "        return False\n",
    "            \n",
    "\n",
    "def guess_game():\n",
    "    answer = randint(1, 10)\n",
    "    while True:\n",
    "        try:\n",
    "            guess = int(input('guess a number from 1~10:  '))\n",
    "            if (run_guess(guess, answer) ):\n",
    "                break\n",
    "        except ValueError:\n",
    "            print('please enter a valid number')\n",
    "            continue\n",
    "            \n",
    "            \n",
    "class TestGame(unittest.TestCase):\n",
    "    def test_input(self):\n",
    "        answer = 5\n",
    "        guess = 5\n",
    "        result = run_guess(answer, guess)\n",
    "        self.assertTrue(result)\n",
    "        \n",
    "    def test_input_wrong_guess(self):\n",
    "        result = run_guess(5, 0)\n",
    "        self.assertFalse(result)\n",
    "        \n",
    "    def test_input_wrong_number(self):\n",
    "        result = run_guess(5, 11)\n",
    "        self.assertFalse(result)\n",
    "        \n",
    "    def test_input_wrong_type(self):\n",
    "        result = run_guess(5, 'fdasf')\n",
    "        self.assertFalse(result)\n",
    "        \n",
    "if __name__ == '__main__':\n",
    "    unittest.main(argv=['first-arg-is-ignored', '-v'], exit=False)"
   ]
  }
 ],
 "metadata": {
  "kernelspec": {
   "display_name": "Python 3",
   "language": "python",
   "name": "python3"
  },
  "language_info": {
   "codemirror_mode": {
    "name": "ipython",
    "version": 3
   },
   "file_extension": ".py",
   "mimetype": "text/x-python",
   "name": "python",
   "nbconvert_exporter": "python",
   "pygments_lexer": "ipython3",
   "version": "3.7.6"
  }
 },
 "nbformat": 4,
 "nbformat_minor": 4
}
