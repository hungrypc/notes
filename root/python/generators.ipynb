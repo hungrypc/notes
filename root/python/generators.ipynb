{
 "cells": [
  {
   "cell_type": "markdown",
   "metadata": {},
   "source": [
    "# Generators\n",
    "> Allows us to generate a sequence of values over time\n",
    "\n",
    "E.g. `range(100)`\n",
    "\n",
    "Generators are a special type of thing that allows us to use a special keyword called yield that can pause and resume functions"
   ]
  },
  {
   "cell_type": "code",
   "execution_count": 2,
   "metadata": {},
   "outputs": [
    {
     "name": "stdout",
     "output_type": "stream",
     "text": [
      "[0, 1, 2, 3, 4, 5, 6, 7, 8, 9, 10, 11, 12, 13, 14, 15, 16, 17, 18, 19]\n"
     ]
    }
   ],
   "source": [
    "range(20)\n",
    "# creates items one by one\n",
    "\n",
    "list(range(20))\n",
    "# a list creates a giant list in our computer's memory\n",
    "\n",
    "def make_list(num):\n",
    "    result = []\n",
    "    for i in range(num):\n",
    "        result.append(i)\n",
    "    return result\n",
    "# when we make a list, we're essentially doing this^\n",
    "\n",
    "my_list = make_list(20)\n",
    "print(my_list)"
   ]
  },
  {
   "cell_type": "markdown",
   "metadata": {},
   "source": [
    "`my_list` is pointing to a location in memory, so it's taking up space.\n",
    "`range()` is a generator, which is a little different because this is not being held in memory. In memory, `range()` never creates this list like we have with `my_list`."
   ]
  },
  {
   "cell_type": "markdown",
   "metadata": {},
   "source": [
    "Generators are actually interable. Everything that is a generator is iterable, but not everything that is interable is a generator.\n",
    "\n",
    "The difference between a generator and a regular interatorable is the way we implement them."
   ]
  },
  {
   "cell_type": "code",
   "execution_count": 4,
   "metadata": {},
   "outputs": [
    {
     "name": "stdout",
     "output_type": "stream",
     "text": [
      "0\n",
      "1\n",
      "2\n",
      "3\n",
      "4\n",
      "5\n",
      "6\n",
      "7\n",
      "8\n",
      "9\n"
     ]
    }
   ],
   "source": [
    "def generator_function(num):\n",
    "    for i in range(num):\n",
    "        yield i\n",
    "# instead of returning/appending, we're using yield\n",
    "# yield pauses the function and comes back to it when we do something to it ('next')\n",
    "\n",
    "for item in generator_function(10):\n",
    "    print(item)"
   ]
  },
  {
   "cell_type": "markdown",
   "metadata": {},
   "source": [
    "Instead of creating a list in memory our function kept going one by one, holding only one item in memory and used it however we wanted to.\n",
    "\n",
    "By using the `yield` keyword, we turned the function into a generator function."
   ]
  },
  {
   "cell_type": "code",
   "execution_count": 6,
   "metadata": {},
   "outputs": [
    {
     "name": "stdout",
     "output_type": "stream",
     "text": [
      "2\n",
      "3\n"
     ]
    }
   ],
   "source": [
    "def generator_function(num):\n",
    "    for i in range(num):\n",
    "        yield i\n",
    "        \n",
    "g = generator_function(10)\n",
    "next(g)        # 0\n",
    "next(g)        # 1\n",
    "print(next(g)) # 2\n",
    "print(next(g)) # 3"
   ]
  },
  {
   "cell_type": "markdown",
   "metadata": {},
   "source": [
    "`yield` pauses the function and comes back to it when next is called. It keeps track of the value and only keeps the most recent data in memory."
   ]
  },
  {
   "cell_type": "markdown",
   "metadata": {},
   "source": [
    "## Generators Performance\n",
    "Let's compare the performance of a generator v.s. creating a list"
   ]
  },
  {
   "cell_type": "code",
   "execution_count": 8,
   "metadata": {},
   "outputs": [
    {
     "name": "stdout",
     "output_type": "stream",
     "text": [
      "long_time\n",
      "took 0.05970191955566406 seconds\n",
      "long_time2\n",
      "took 0.07923269271850586 seconds\n"
     ]
    }
   ],
   "source": [
    "from time import time\n",
    "\n",
    "def performance(fn):\n",
    "    def wrapper(*args, **kwargs):\n",
    "        t1 = time()\n",
    "        result = fn(*args, **kwargs)\n",
    "        t2 = time()\n",
    "        print(f'took {t2 - t1} seconds')\n",
    "        return result\n",
    "    return wrapper\n",
    "\n",
    "@performance\n",
    "def long_time():\n",
    "    print('long_time')\n",
    "    for i in range(1000000):\n",
    "        i*5\n",
    "        \n",
    "@performance\n",
    "def long_time2():\n",
    "    print('long_time2')\n",
    "    for i in list(range(1000000)):\n",
    "        i*5\n",
    "        \n",
    "long_time()\n",
    "long_time2()"
   ]
  },
  {
   "cell_type": "markdown",
   "metadata": {},
   "source": [
    "With generators, we're able to not have to hold things in memory and instead are able to process data efficiently."
   ]
  },
  {
   "cell_type": "markdown",
   "metadata": {},
   "source": [
    "## Under the Hood of Generators"
   ]
  },
  {
   "cell_type": "code",
   "execution_count": 12,
   "metadata": {},
   "outputs": [
    {
     "name": "stdout",
     "output_type": "stream",
     "text": [
      "<list_iterator object at 0x108c60810>\n",
      "1\n",
      "<list_iterator object at 0x108c60810>\n",
      "2\n",
      "<list_iterator object at 0x108c60810>\n",
      "3\n",
      "<list_iterator object at 0x108c60810>\n"
     ]
    }
   ],
   "source": [
    "def special_for(iterable):\n",
    "    iterator = iter(iterable)\n",
    "    while True:\n",
    "        try:\n",
    "            print(iterator)\n",
    "            print(next(iterator))\n",
    "        except StopIteration:\n",
    "            break\n",
    "\n",
    "special_for([1,2,3])"
   ]
  },
  {
   "cell_type": "markdown",
   "metadata": {},
   "source": [
    "Notice how the object exists in the same memory space even though we're constantly looping through it. This is how generators work under the hood. "
   ]
  },
  {
   "cell_type": "code",
   "execution_count": 13,
   "metadata": {},
   "outputs": [
    {
     "name": "stdout",
     "output_type": "stream",
     "text": [
      "0\n",
      "1\n",
      "2\n",
      "3\n",
      "4\n",
      "5\n",
      "6\n",
      "7\n",
      "8\n",
      "9\n"
     ]
    }
   ],
   "source": [
    "class MyGen():\n",
    "    current = 0\n",
    "    def __init__(self, first, last):\n",
    "        self.first = first\n",
    "        self.last = last\n",
    "        \n",
    "    def __iter__(self):\n",
    "        return self\n",
    "    \n",
    "    def __next__(self):\n",
    "        if MyGen.current < self.last:\n",
    "            num = MyGen.current\n",
    "            MyGen.current += 1\n",
    "            return num\n",
    "        raise StopIteration\n",
    "        \n",
    "\n",
    "gen = MyGen(0, 10)\n",
    "for i in gen:\n",
    "    print(i)"
   ]
  },
  {
   "cell_type": "markdown",
   "metadata": {},
   "source": [
    "## Exercise: Fibonacci Numbers\n",
    "Let's create a function that takes a number which will be the index number of the fibonacci and returns all fib numbers until that index. "
   ]
  },
  {
   "cell_type": "code",
   "execution_count": 16,
   "metadata": {},
   "outputs": [
    {
     "name": "stdout",
     "output_type": "stream",
     "text": [
      "0\n",
      "1\n",
      "1\n",
      "2\n",
      "3\n",
      "5\n",
      "8\n",
      "13\n",
      "21\n",
      "34\n"
     ]
    }
   ],
   "source": [
    "def fib(num):\n",
    "    a = 0\n",
    "    b = 1\n",
    "    for i in range(num):\n",
    "        yield a\n",
    "        temp = a\n",
    "        a = b\n",
    "        b = temp + b\n",
    "\n",
    "for x in fib(10):\n",
    "    print(x)"
   ]
  }
 ],
 "metadata": {
  "kernelspec": {
   "display_name": "Python 3",
   "language": "python",
   "name": "python3"
  },
  "language_info": {
   "codemirror_mode": {
    "name": "ipython",
    "version": 3
   },
   "file_extension": ".py",
   "mimetype": "text/x-python",
   "name": "python",
   "nbconvert_exporter": "python",
   "pygments_lexer": "ipython3",
   "version": "3.7.6"
  }
 },
 "nbformat": 4,
 "nbformat_minor": 4
}
