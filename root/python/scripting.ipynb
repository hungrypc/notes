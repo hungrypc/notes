{
 "cells": [
  {
   "cell_type": "markdown",
   "metadata": {},
   "source": [
    "# Scripting with Python"
   ]
  },
  {
   "cell_type": "markdown",
   "metadata": {},
   "source": [
    "## Image Processing"
   ]
  },
  {
   "cell_type": "markdown",
   "metadata": {},
   "source": [
    "[image processing repo](https://github.com/hungrypc/python-simple-image-processing)"
   ]
  },
  {
   "cell_type": "code",
   "execution_count": 1,
   "metadata": {},
   "outputs": [],
   "source": [
    "from PIL import Image, ImageFilter\n",
    "\n",
    "# img = Image.open('./pokedex/pikachu.jpg')\n",
    "\n",
    "# print(img.format)\n",
    "# print(img.size)\n",
    "# print(img.mode)\n",
    "\n",
    "# filtered_img = img.filter(ImageFilter.SMOOTH)\n",
    "# filtered_img.save(\"smooth.png\", 'png')\n",
    "# filtered_img = img.filter(ImageFilter.SHARPEN)\n",
    "# filtered_img.save(\"sharpen.png\", 'png')\n",
    "\n",
    "# filtered_img = img.convert('L')   # converts format to greyscale\n",
    "# filtered_img.save(\"grey.png\", 'png')\n",
    "\n",
    "# filtered_img.show()   # opens img\n",
    "\n",
    "# crooked = filtered_img.rotate(90)\n",
    "# crooked.save('crooked_grey.png', 'png')\n",
    "\n",
    "# resized_img = filtered_img.resize((300, 300))\n",
    "# resized_img.save('resized_grey.png', 'png')\n",
    "\n",
    "# box = (100, 100, 400, 400)\n",
    "# region = filtered_img.crop(box)\n",
    "# region.save('cropped_grey.png', 'png')"
   ]
  },
  {
   "cell_type": "markdown",
   "metadata": {},
   "source": [
    "### Exercise: JPG to PNG Converter\n",
    "\n",
    "We want to be able to do something like this:\n",
    "\n",
    "`python3 JPGtoPNGConverter.py pokedex/ new/`"
   ]
  },
  {
   "cell_type": "code",
   "execution_count": null,
   "metadata": {},
   "outputs": [],
   "source": [
    "import sys\n",
    "import os\n",
    "from PIL import Image\n",
    "\n",
    "# grab the first and second args\n",
    "image_folder = sys.argv[1]\n",
    "output_folder = sys.argv[2]\n",
    "\n",
    "print(image_folder)\n",
    "print(output_folder)\n",
    "\n",
    "# check if new/ exists, if not => create\n",
    "if not os.path.exists(output_folder):\n",
    "    os.makedirs(output_folder)\n",
    "\n",
    "# loop through folder (pokedex/) and convert images to png\n",
    "# save to new folder\n",
    "for filename in os.listdir(image_folder):\n",
    "    img = Image.open(f'{image_folder}{filename}')\n",
    "    clean_name = os.path.splitext(filename)[0]\n",
    "    img.save(f'{output_folder}{clean_name}.png', 'png')\n",
    "    print('converted')"
   ]
  },
  {
   "cell_type": "markdown",
   "metadata": {},
   "source": [
    "[OpenCV](https://opencv.org/) is another library that includes image processing, uses machine learning. Explore on your own."
   ]
  },
  {
   "cell_type": "markdown",
   "metadata": {},
   "source": [
    "## PDFs with Python\n",
    "\n",
    "`pip3 install PyPDF2`"
   ]
  },
  {
   "cell_type": "code",
   "execution_count": null,
   "metadata": {},
   "outputs": [],
   "source": [
    "import PyPDF2\n",
    "\n",
    "with open('dummy.pdf', 'rb') as file:\n",
    "    # 'rb' converts file object to binary mode so PyPDF2 can read\n",
    "    reader = PyPDF2.PdfFileReader(file)\n",
    "    print(reader.numPages)      # number of pages\n",
    "    print(reader.getPage(0))    # get specific page object\n",
    "    page = reader.getPage(0)\n",
    "    # page.rotateClockwise(90)\n",
    "    page.rotateCounterClockwise(90)\n",
    "    writer = PyPDF2.PdfFileWriter()\n",
    "    writer.addPage(page)\n",
    "    with open('rotated.pdf', 'wb') as new_file:\n",
    "        writer.write(new_file)"
   ]
  },
  {
   "cell_type": "markdown",
   "metadata": {},
   "source": [
    "Let's make a program that takes in multiple pdfs as args and merges them into one big pdf:\n",
    "\n",
    "`python3 pdf.py dummy.pdf twopage.pdf rotated.pdf`"
   ]
  },
  {
   "cell_type": "code",
   "execution_count": null,
   "metadata": {},
   "outputs": [],
   "source": [
    "import PyPDF2\n",
    "import sys\n",
    "\n",
    "inputs = sys.argv[1:]\n",
    "\n",
    "\n",
    "def pdf_combiner(pdf_list):\n",
    "    merger = PyPDF2.PdfFileMerger()\n",
    "    for pdf in pdf_list:\n",
    "        print(pdf)\n",
    "        merger.append(pdf)\n",
    "    merger.write('super.pdf')\n",
    "\n",
    "\n",
    "pdf_combiner(inputs)"
   ]
  },
  {
   "cell_type": "markdown",
   "metadata": {},
   "source": [
    "### Exercise: Watermark"
   ]
  },
  {
   "cell_type": "code",
   "execution_count": null,
   "metadata": {},
   "outputs": [],
   "source": [
    "template = PyPDF2.PdfFileReader(open('super.pdf', 'rb'))\n",
    "watermark = PyPDF2.PdfFileReader(open('wtr.pdf', 'rb'))\n",
    "output = PyPDF2.PdfFileWriter()\n",
    "\n",
    "for i in range(template.getNumPages()):\n",
    "    page = template.getPage(i)\n",
    "    page.mergePage(watermark.getPage(0))\n",
    "    output.addPage(page)\n",
    "\n",
    "    with open('watermarked_output.pdf', 'wb') as file:\n",
    "        output.write(file)"
   ]
  },
  {
   "cell_type": "markdown",
   "metadata": {},
   "source": [
    "## Sending Emails with Python\n",
    "\n",
    "[email docs](https://docs.python.org/3/library/email.examples.html)"
   ]
  },
  {
   "cell_type": "code",
   "execution_count": null,
   "metadata": {},
   "outputs": [],
   "source": [
    "import smtplib    # creates an smtp server\n",
    "from email.message import EmailMessage\n",
    "\n",
    "# email object\n",
    "email = EmailMessage()\n",
    "email['from'] = 'Phil Chan'\n",
    "email['to'] = 'philipchanhk626@gmail.com'\n",
    "email['subject'] = 'Testing email via python'\n",
    "\n",
    "email.set_content('suhwoop')\n",
    "\n",
    "password = input('pw: ')\n",
    "\n",
    "with smtplib.SMTP(host='smtp.gmail.com', port=587) as smtp:\n",
    "    smtp.ehlo()      # start with a hello to the server\n",
    "    smtp.starttls()  # encryption mechanism to connect securely to server\n",
    "    smtp.login('alljunknoplay@gmail.com', password)\n",
    "    smtp.send_message(email)\n",
    "    print('email sent')"
   ]
  },
  {
   "cell_type": "markdown",
   "metadata": {},
   "source": [
    "Let''s improve this by making it more dynamic."
   ]
  },
  {
   "cell_type": "code",
   "execution_count": null,
   "metadata": {},
   "outputs": [],
   "source": [
    "import smtplib  \n",
    "from email.message import EmailMessage\n",
    "from string import Template   # with this, we can use $\n",
    "from pathlib import Path      # allows us to use html file\n",
    "\n",
    "html = Template(Path('index.html').read_text())\n",
    "email = EmailMessage()\n",
    "email['from'] = 'Phil Chan'\n",
    "email['to'] = 'philipchanhk626@gmail.com'\n",
    "email['subject'] = 'Testing email via python'\n",
    "\n",
    "email.set_content(html.substitute(name='TinTin'), 'html')\n",
    "\n",
    "password = input('pw: ')\n",
    "\n",
    "with smtplib.SMTP(host='smtp.gmail.com', port=587) as smtp:\n",
    "    smtp.ehlo()      # start with a hello to the server\n",
    "    smtp.starttls()  # encryption mechanism to connect securely to server\n",
    "    smtp.login('alljunknoplay@gmail.com', password)\n",
    "    smtp.send_message(email)\n",
    "    print('email sent')\n",
    "    \n",
    "    \n",
    "# html\n",
    "# ...\n",
    "# <body>hello, $name.</body>\n",
    "# ..."
   ]
  },
  {
   "cell_type": "markdown",
   "metadata": {},
   "source": [
    "## Password Checker"
   ]
  },
  {
   "cell_type": "code",
   "execution_count": null,
   "metadata": {},
   "outputs": [],
   "source": [
    "import requests\n",
    "import hashlib\n",
    "import sys\n",
    "\n",
    "\n",
    "def request_api_data(query_char):\n",
    "    # this api takes only the first 5 chars of a hash\n",
    "    url = 'https://api.pwnedpasswords.com/range/' + query_char\n",
    "    res = requests.get(url)\n",
    "    if res.status_code != 200:\n",
    "        raise RuntimeError(f'Error fetching: {res.status_code}, check api and try again')\n",
    "    return res\n",
    "\n",
    "\n",
    "def get_leak_count(hashes, hash_to_check):\n",
    "    hashes = (line.split(':') for line in hashes.text.splitlines())\n",
    "    for h, count in hashes:\n",
    "        if h == hash_to_check:\n",
    "            return count\n",
    "    return 0\n",
    "\n",
    "\n",
    "\n",
    "def pwned_api_check(password):\n",
    "    sha1password = hashlib.sha1(password.encode('utf-8'))\n",
    "    hashed = sha1password.hexdigest().upper()\n",
    "\n",
    "    first5_chars, tail = hashed[:5], hashed[5:]\n",
    "    response = request_api_data(first5_chars)\n",
    "\n",
    "    # check password if exists in API response\n",
    "    return get_leak_count(response, tail)\n",
    "\n",
    "\n",
    "def main(args):\n",
    "    for password in args:\n",
    "        count = pwned_api_check(password)\n",
    "        if count:\n",
    "            print(f'{password} was found {count} times...')\n",
    "        else:\n",
    "            print(f'{password} was not found')\n",
    "    return 'done'\n",
    "\n",
    "\n",
    "main(sys.argv[1:])"
   ]
  }
 ],
 "metadata": {
  "kernelspec": {
   "display_name": "Python 3",
   "language": "python",
   "name": "python3"
  },
  "language_info": {
   "codemirror_mode": {
    "name": "ipython",
    "version": 3
   },
   "file_extension": ".py",
   "mimetype": "text/x-python",
   "name": "python",
   "nbconvert_exporter": "python",
   "pygments_lexer": "ipython3",
   "version": "3.7.6"
  }
 },
 "nbformat": 4,
 "nbformat_minor": 4
}
