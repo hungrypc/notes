{
 "cells": [
  {
   "cell_type": "markdown",
   "metadata": {},
   "source": [
    "# Derivative Contracts\n",
    "\n",
    "A derivatives is a financial instrument, whose price is derived based on the development of one or more underlying assets (stocks, bonds, interest rates, commodities, exchange rates). It is a contract involving at least two parties and describing how and when the two parties will exchange payments. \n",
    "\n",
    "Some derivative contracts are traded in regulated markets while others traded over the counter are not regulated. Those traded in regulated markets have a uniform contractual structure and are much simpler to understand.\n",
    "\n",
    "Originally, derivatives served as a hedging instrument, companies intrested in buying these contracts were mostly concerned about protecting their investment. \n",
    "\n",
    "So if a business owner sold some of his goods in pounds and received payments in 3 months time, he would be more than willing to buy a derivative contract that allowed him to exchange pounds in 3 months for dollars today, locking the revenues he would receive from the sale today. That's how it started. \n",
    "\n",
    "However, with time, financial institutions introduced a great deal of innovation to the scene. Now, there are many types. We can distinguish between three groups of people dealing with derivatives:\n",
    "1. Those interested in hedging their investments\n",
    "2. Speculators\n",
    "3. Arbitrageurs\n",
    "    - Traders interested in finding pricing discrepencies and profiting from these, assuming no risk\n",
    "\n",
    "There are 4 main types of financial derivatives:\n",
    "1. Forwards\n",
    "> Used when two parties agree that one party will sell the to other an underlying asset at a future point of time. Price of asset is agreed beforehand. \n",
    "\n",
    "e.g.\n",
    "Corn producer will have certain amount of corn in 3 months that needs to be sold. This producer would want to fix the price of the corn today to be certain of the revenue he/she can expect. This is a classic example, a derivative contract is used to reduce risk. Same goes for the party who agrees to buy the corn, they'd want to lock the cost today. \n",
    "\n",
    "2. Futures\n",
    "> Highly standardized forwards contracts, typically stipulated in a marketplace. \n",
    "\n",
    "The difference between futures and forwards is the level of standardization and the participation of a clearinghouse. The transaction goes through the marketplace and the counterparties do not know each other. \n",
    "\n",
    "3. Swaps\n",
    "> Where two parties agree to exchange cash flows based on an underlying asset at a future point of time. The underlying asset can be an interest rate, stock price, bond price, commodity, etc. \n",
    "\n",
    "The most widely used swap contracts are interest rate swaps. One party agrees to receive a cash flow based on a fixed interest rate while the other agrees to receive a cash flow based on a floating interest rate. \n",
    "\n",
    "4. Options\n",
    "> This enables its owner to buy or sell an underlying asset at a given price. \n",
    "\n",
    "The owner of the option contract may buy or sell the asset at the given price, but he may also decide not to do it if the assets price isn't advantageous.\n",
    "\n",
    "- Option contracts can be exercised until a certain date (maturity date).\n",
    "- Options that involve buying an asset are called call options\n",
    "- Options based on the sale of an asset are called put options\n",
    "- European options can exercised only at maturity\n",
    "- American options can be exercised at any time"
   ]
  }
 ],
 "metadata": {
  "kernelspec": {
   "display_name": "Python 3",
   "language": "python",
   "name": "python3"
  },
  "language_info": {
   "codemirror_mode": {
    "name": "ipython",
    "version": 3
   },
   "file_extension": ".py",
   "mimetype": "text/x-python",
   "name": "python",
   "nbconvert_exporter": "python",
   "pygments_lexer": "ipython3",
   "version": "3.7.6"
  }
 },
 "nbformat": 4,
 "nbformat_minor": 4
}
