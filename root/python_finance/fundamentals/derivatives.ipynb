{
 "cells": [
  {
   "cell_type": "markdown",
   "metadata": {},
   "source": [
    "# Derivative Contracts\n",
    "\n",
    "A derivatives is a financial instrument, whose price is derived based on the development of one or more underlying assets (stocks, bonds, interest rates, commodities, exchange rates). It is a contract involving at least two parties and describing how and when the two parties will exchange payments. \n",
    "\n",
    "Some derivative contracts are traded in regulated markets while others traded over the counter are not regulated. Those traded in regulated markets have a uniform contractual structure and are much simpler to understand.\n",
    "\n",
    "Originally, derivatives served as a hedging instrument, companies intrested in buying these contracts were mostly concerned about protecting their investment. \n",
    "\n",
    "So if a business owner sold some of his goods in pounds and received payments in 3 months time, he would be more than willing to buy a derivative contract that allowed him to exchange pounds in 3 months for dollars today, locking the revenues he would receive from the sale today. That's how it started. \n",
    "\n",
    "However, with time, financial institutions introduced a great deal of innovation to the scene. Now, there are many types. We can distinguish between three groups of people dealing with derivatives:\n",
    "1. Those interested in hedging their investments\n",
    "2. Speculators\n",
    "3. Arbitrageurs\n",
    "    - Traders interested in finding pricing discrepencies and profiting from these, assuming no risk\n",
    "\n",
    "There are 4 main types of financial derivatives:\n",
    "1. Forwards\n",
    "> Used when two parties agree that one party will sell the to other an underlying asset at a future point of time. Price of asset is agreed beforehand. \n",
    "\n",
    "e.g.\n",
    "Corn producer will have certain amount of corn in 3 months that needs to be sold. This producer would want to fix the price of the corn today to be certain of the revenue he/she can expect. This is a classic example, a derivative contract is used to reduce risk. Same goes for the party who agrees to buy the corn, they'd want to lock the cost today. \n",
    "\n",
    "2. Futures\n",
    "> Highly standardized forwards contracts, typically stipulated in a marketplace. \n",
    "\n",
    "The difference between futures and forwards is the level of standardization and the participation of a clearinghouse. The transaction goes through the marketplace and the counterparties do not know each other. \n",
    "\n",
    "3. Swaps\n",
    "> Where two parties agree to exchange cash flows based on an underlying asset at a future point of time. The underlying asset can be an interest rate, stock price, bond price, commodity, etc. \n",
    "\n",
    "The most widely used swap contracts are interest rate swaps. One party agrees to receive a cash flow based on a fixed interest rate while the other agrees to receive a cash flow based on a floating interest rate. \n",
    "\n",
    "4. Options\n",
    "> This enables its owner to buy or sell an underlying asset at a given price. \n",
    "\n",
    "The owner of the option contract may buy or sell the asset at the given price, but he may also decide not to do it if the assets price isn't advantageous.\n",
    "\n",
    "- Option contracts can be exercised until a certain date (maturity date).\n",
    "- Options that involve buying an asset are called call options\n",
    "- Options based on the sale of an asset are called put options\n",
    "- European options can exercised only at maturity\n",
    "- American options can be exercised at any time"
   ]
  },
  {
   "cell_type": "markdown",
   "metadata": {},
   "source": [
    "## The Black Scholes Formula for Options Pricing\n",
    "\n",
    "Developed in 1973, is now the primary tool for derivative pricing. The original framework considered the pricing of a European call or put option and assumed efficient markets, absence of transaction costs, no dividend payments, and known volatility and risk-free rate. Some of these hypotheses can be relaxed to calculate an options price in practice. \n",
    "\n",
    "So what does it do? It calculates the value of an option. An option per se is something we like. It's the freedom to choose whether to acquire a stock. The holder of the option may decide he want to buy the stock, but he may also decide he is better without doing it. This freedom is valueable to every investor, hence it has a price. \n",
    "\n",
    "Upon expiration of the option, its owner will compare the strike price and the actual market price of the underlying share. If the strike price is lower than the market price, the owner of the option will exercise it. Conversely, if the strike price is higher than the market price, he won't exercise the option because he must buy the share at a higher price than its market price. \n",
    "\n",
    "So, the profitability of the investor looks like this:\n",
    "1. He pays money and buys the option. His profitability becomes negative. \n",
    "2. Then, when the expiration date comes, he's able to use the option if the price of the underlying share is higher than the strike price.\n",
    "    - Even if the market price is higher than the strike price, this doesn't mean the investor will profit. He needs a price that is significantly higher to reach a break even point to profit from the deal.\n",
    "    \n",
    "The Black Scholes formula provides an intuitive way to calculate option prices. \n",
    "\n",
    "The formula itself looks intimidating...\n",
    "\n",
    "$$C(S,t) = N(d_1)S - N(d_2)Ke^{-r(T-t)}$$\n",
    "$$d_1 = \\frac{1}{s\\sqrt{(t-t)}}[ln\\frac{S}{K} + (r + \\frac{s^2}{2}(T-t]$$\n",
    "$$d_2 = d_1 - \\sqrt{T-t}$$\n",
    "\n",
    "$$\\text{S = Current Stock price}$$\n",
    "$$\\text{K = Option Strike price}$$\n",
    "$$\\text{t = Time until option expires}$$\n",
    "$$\\text{r = Risk free interest rate}$$\n",
    "$$\\text{s = sample standard deviation}$$\n",
    "$$\\text{N = Standard Normal distribution}$$\n",
    "$$\\text{e = exponential term}$$\n",
    "$$\\text{C = Call premium}$$\n",
    "\n",
    "In a nutshell:\n",
    "\n",
    "The Black Scholes formula calculates the value of a call by taking the difference between the amount you get if you exercise the option minus the amount you have to pay if you exercise the option. "
   ]
  },
  {
   "cell_type": "markdown",
   "metadata": {},
   "source": [
    "## Monte Carlo - Black Scholes Merton"
   ]
  },
  {
   "cell_type": "code",
   "execution_count": 1,
   "metadata": {},
   "outputs": [
    {
     "name": "stderr",
     "output_type": "stream",
     "text": [
      "/opt/anaconda3/lib/python3.7/site-packages/pandas_datareader/compat/__init__.py:7: FutureWarning: pandas.util.testing is deprecated. Use the functions in the public API at pandas.testing instead.\n",
      "  from pandas.util.testing import assert_frame_equal\n"
     ]
    }
   ],
   "source": [
    "import numpy as np\n",
    "import pandas as pd\n",
    "from pandas_datareader import data as wb\n",
    "from scipy.stats import norm"
   ]
  },
  {
   "cell_type": "markdown",
   "metadata": {},
   "source": [
    "$$d_1 = \\frac{ln\\frac{S}{K}+(r+\\frac{stdev^2}{2})t}{s\\sqrt{t}}$$\n",
    "$$d_2 = d_1-s*\\sqrt{t} = \\frac{ln\\frac{S}{K} + (r-\\frac{stdev^2}{2})t}{s\\sqrt{t}}$$"
   ]
  },
  {
   "cell_type": "code",
   "execution_count": 2,
   "metadata": {},
   "outputs": [],
   "source": [
    "def d1(S, K, r, stdev, T):\n",
    "    return (np.log(S/K) + (r + stdev ** 2/2) * T) / (stdev * np.sqrt(T))\n",
    "\n",
    "def d2(S, K, r, stdev, T):\n",
    "    return (np.log(S/K) + (r - stdev ** 2/2) * T) / (stdev * np.sqrt(T))"
   ]
  },
  {
   "cell_type": "code",
   "execution_count": 3,
   "metadata": {},
   "outputs": [
    {
     "data": {
      "text/plain": [
       "0.5"
      ]
     },
     "execution_count": 3,
     "metadata": {},
     "output_type": "execute_result"
    }
   ],
   "source": [
    "# cumulative Distribution Function\n",
    "norm.cdf(0)\n",
    "\n",
    "# the output is 0.5 because 0 is the mean of the standard normal distribution\n",
    "# and half the data lies below this value"
   ]
  },
  {
   "cell_type": "code",
   "execution_count": 4,
   "metadata": {},
   "outputs": [
    {
     "data": {
      "text/plain": [
       "0.5987063256829237"
      ]
     },
     "execution_count": 4,
     "metadata": {},
     "output_type": "execute_result"
    }
   ],
   "source": [
    "norm.cdf(0.25)"
   ]
  },
  {
   "cell_type": "code",
   "execution_count": 5,
   "metadata": {},
   "outputs": [
    {
     "data": {
      "text/plain": [
       "0.7733726476231317"
      ]
     },
     "execution_count": 5,
     "metadata": {},
     "output_type": "execute_result"
    }
   ],
   "source": [
    "norm.cdf(0.75)"
   ]
  },
  {
   "cell_type": "code",
   "execution_count": 6,
   "metadata": {},
   "outputs": [
    {
     "data": {
      "text/plain": [
       "1.0"
      ]
     },
     "execution_count": 6,
     "metadata": {},
     "output_type": "execute_result"
    }
   ],
   "source": [
    "norm.cdf(9)\n",
    "# we get one because 9 is expected to be the largest data point in our set"
   ]
  },
  {
   "cell_type": "markdown",
   "metadata": {},
   "source": [
    "$$C = SN(d_1)-Ke^{-rt}N(d_2)$$"
   ]
  },
  {
   "cell_type": "code",
   "execution_count": 7,
   "metadata": {},
   "outputs": [],
   "source": [
    "def BSM(S, K, r, stdev, T):\n",
    "    return (S * norm.cdf(d1(S, K, r, stdev, T))) - (K * np.exp(-r*T) * norm.cdf(d2(S, K, r, stdev, T)))"
   ]
  },
  {
   "cell_type": "code",
   "execution_count": 8,
   "metadata": {},
   "outputs": [],
   "source": [
    "ticker = 'PG'\n",
    "data = pd.DataFrame()\n",
    "data[ticker] = wb.DataReader(ticker, data_source='yahoo', start='2010-1-1')['Adj Close']"
   ]
  },
  {
   "cell_type": "code",
   "execution_count": 9,
   "metadata": {},
   "outputs": [
    {
     "data": {
      "text/plain": [
       "PG    126.589996\n",
       "Name: 2020-07-21 00:00:00, dtype: float64"
      ]
     },
     "execution_count": 9,
     "metadata": {},
     "output_type": "execute_result"
    }
   ],
   "source": [
    "S = data.iloc[-1]\n",
    "S"
   ]
  },
  {
   "cell_type": "code",
   "execution_count": 11,
   "metadata": {},
   "outputs": [],
   "source": [
    "log_returns = np.log(1 + data.pct_change())"
   ]
  },
  {
   "cell_type": "code",
   "execution_count": 12,
   "metadata": {},
   "outputs": [
    {
     "data": {
      "text/plain": [
       "PG    0.171806\n",
       "dtype: float64"
      ]
     },
     "execution_count": 12,
     "metadata": {},
     "output_type": "execute_result"
    }
   ],
   "source": [
    "stdev = log_returns.std() * 250 ** 0.5\n",
    "stdev"
   ]
  },
  {
   "cell_type": "markdown",
   "metadata": {},
   "source": [
    "Ok, let's begin.\n",
    "\n",
    "We'll stick to a risk free rate of 2.5 percent corresponding to the yield of a 10 year gov bond. Let's assume the strike price = $150 and the time horizon is 1 year."
   ]
  },
  {
   "cell_type": "code",
   "execution_count": 13,
   "metadata": {},
   "outputs": [],
   "source": [
    "r = 0.025\n",
    "K = 150.0\n",
    "T = 1"
   ]
  },
  {
   "cell_type": "code",
   "execution_count": 14,
   "metadata": {},
   "outputs": [
    {
     "data": {
      "text/plain": [
       "PG   -0.756219\n",
       "dtype: float64"
      ]
     },
     "execution_count": 14,
     "metadata": {},
     "output_type": "execute_result"
    }
   ],
   "source": [
    "d1(S, K, r, stdev, T)"
   ]
  },
  {
   "cell_type": "code",
   "execution_count": 15,
   "metadata": {},
   "outputs": [
    {
     "data": {
      "text/plain": [
       "PG   -0.756219\n",
       "dtype: float64"
      ]
     },
     "execution_count": 15,
     "metadata": {},
     "output_type": "execute_result"
    }
   ],
   "source": [
    "d1(S, K, r, stdev, T)"
   ]
  },
  {
   "cell_type": "code",
   "execution_count": 16,
   "metadata": {},
   "outputs": [
    {
     "data": {
      "text/plain": [
       "PG    2.602048\n",
       "Name: 2020-07-21 00:00:00, dtype: float64"
      ]
     },
     "execution_count": 16,
     "metadata": {},
     "output_type": "execute_result"
    }
   ],
   "source": [
    "BSM(S, K, r, stdev, T)"
   ]
  },
  {
   "cell_type": "markdown",
   "metadata": {},
   "source": [
    "## Monte Carlo: Euler Discretization"
   ]
  },
  {
   "cell_type": "code",
   "execution_count": 17,
   "metadata": {},
   "outputs": [],
   "source": [
    "import numpy as np\n",
    "import pandas as pd\n",
    "from pandas_datareader import data as wb\n",
    "from scipy.stats import norm\n",
    "import matplotlib.pyplot as plt\n",
    "%matplotlib inline"
   ]
  },
  {
   "cell_type": "code",
   "execution_count": 18,
   "metadata": {},
   "outputs": [],
   "source": [
    "ticker = 'PG'\n",
    "data = pd.DataFrame()\n",
    "data[ticker] = wb.DataReader(ticker, data_source='yahoo', start='2010-1-1')['Adj Close']"
   ]
  },
  {
   "cell_type": "code",
   "execution_count": 19,
   "metadata": {},
   "outputs": [],
   "source": [
    "log_returns = np.log(1 + data.pct_change())"
   ]
  },
  {
   "cell_type": "code",
   "execution_count": null,
   "metadata": {},
   "outputs": [],
   "source": []
  }
 ],
 "metadata": {
  "kernelspec": {
   "display_name": "Python 3",
   "language": "python",
   "name": "python3"
  },
  "language_info": {
   "codemirror_mode": {
    "name": "ipython",
    "version": 3
   },
   "file_extension": ".py",
   "mimetype": "text/x-python",
   "name": "python",
   "nbconvert_exporter": "python",
   "pygments_lexer": "ipython3",
   "version": "3.7.6"
  }
 },
 "nbformat": 4,
 "nbformat_minor": 4
}
