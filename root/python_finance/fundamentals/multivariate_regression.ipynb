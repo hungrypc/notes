{
 "cells": [
  {
   "cell_type": "markdown",
   "metadata": {},
   "source": [
    "# Multivariate Regression Analysis\n",
    "\n",
    "It is reasonable to expect that by considering more variables in the regression equation will improve its explanatory power and provide a better idea of the full picture of circumstances that determine the development of the variable we are trying to predict. \n",
    "\n",
    "Think back to our house example. The buyer of a house is not only interested in the size, but the location, neighbourhood, transportation, etc. All these play a role and affect pricing. Therefore, a regression that considers multiple cariables should provide predictions closer to true results. The main catch is that we need the right variables. \n",
    "\n",
    "The form of the multivariate regression equation is almost the same as the simple regression equation, with the slight difference that we have multiple beta coefficients and explanatory variables. It's up to the analyst's discretion to choose how many explanatory variables will be included. If their number is higher than 1, we can talk about a multiple regression. \n",
    "\n",
    "The principle accoding to which regression is calculated is the same as in the simple regression setting. We're estimating a best fitting line minimizing the sum of squared residuals. It is more difficult to represent the best fitting line on a plot, given we are calculating its fit through multiple dimensions. If the independent variables are more than two, things become complicated. If they're three, you can use a 3D graph. \n",
    "\n",
    "To understand how the regression coefficients are obtained, try to imagine the software we're using knows how to calculate the equation of a best fitting line in 4, 5, 6, or more dimensions. Math formulas make this a possible task. Similar to what we saw before, the $R^2$ measurement will help us determine how powerful the regression we've obtained is. \n",
    "\n",
    "- R-squared can be from 0-1\n",
    "- The more variables we include in the equation, the higher we would expect it to be\n",
    "\n",
    "There are two main ways to check if an explanatory variable is helpful:\n",
    "1. Run a regression with the variable, then run a new regression without that variable/with a different variable\n",
    "\n",
    "We should observe how $R^2$ changes. If it's higher the first time, then this independent variable has good explanatory power and its value contributes to the explanation of the value of the dependent variable. \n",
    "\n",
    "2. Compare the p-values of the beta coefficients\n",
    "\n",
    "A p-value is the probability to obtain a result that is more extreme than the one we obtained. In this case, this is the probability that the beta coefficients we've estimated should have been different. So a low p-value is a good thing, it provides assurance that the real beta coefficient differs from 0 and helps us explain the dependent variable. A p-value that is lower than 5% allows us to state we can be 95% confident that the beta coefficient we've estimated is different than 0.\n",
    "\n",
    "This is how we can run a multivariate regression.\n",
    "\n",
    "$$Y_i = \\beta_0 + \\beta_1 X_1 + \\beta_2 X_2 + \\beta_i X_i + \\varepsilon_i$$\n",
    "\n",
    "Note that the beta coefficients estimated in a multivariate regression can still be interpreted as the marginal impact of the explanatory variable has on the dependent variable. But this is only true of all other explanatory variables remain constant. \n",
    "\n",
    "So, if we've obtained a regression that shows how a stock's expected return is a function of the country's GDP growth and the industry growth rate, and we've obtained a 0.8 beta coefficient for the GDP growth, and a 1.2 beta coefficient for industry growth, we can say that for every percentage increase of GDP growth, the company will be expected to earn 0.8% more if the expected industry growth remains the same. \n",
    "\n",
    "The expected return and the GDP growth are interralated in this regression and we cannot interpret one without the other."
   ]
  },
  {
   "cell_type": "code",
   "execution_count": null,
   "metadata": {},
   "outputs": [],
   "source": []
  }
 ],
 "metadata": {
  "kernelspec": {
   "display_name": "Python 3",
   "language": "python",
   "name": "python3"
  },
  "language_info": {
   "codemirror_mode": {
    "name": "ipython",
    "version": 3
   },
   "file_extension": ".py",
   "mimetype": "text/x-python",
   "name": "python",
   "nbconvert_exporter": "python",
   "pygments_lexer": "ipython3",
   "version": "3.7.6"
  }
 },
 "nbformat": 4,
 "nbformat_minor": 4
}
