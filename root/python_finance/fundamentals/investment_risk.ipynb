{
 "cells": [
  {
   "cell_type": "markdown",
   "metadata": {},
   "source": [
    "# Measuring Investment Risk"
   ]
  },
  {
   "cell_type": "markdown",
   "metadata": {},
   "source": [
    "## How do we measure a security's risk?\n",
    "\n",
    "Risk and return are the two most important dimensions in investment decision making. \n",
    "\n",
    "How do we define risk?\n",
    "> Variability is the best measure of risk. \n",
    "\n",
    "A volatile stock market is much more likely to deviate from its historical returns and surprise investors negatively. Most people prefer to have a good idea about the rate of return they can expect from a security or a portfolio of securities, and are doing their best to reduce the risk they are exposed to. Investors are risk averse. \n",
    "\n",
    "Commonly used statistical measures such as variance and standard deviation can help us a great deal when we try to quantify risk associated with the dispersion in the likely outcome. Such dispersion is measured by a security's variance and standard deviation.  \n",
    "\n",
    "> Variance measures the dispersion of a set of data points around the mean. Formula = sum of the squares of the difference between a data point X and the mean divided by N - 1.\n",
    "\n",
    "$$s^2 = \\frac{\\Sigma(X - \\bar X)^2}{N - 1}$$\n",
    "\n",
    "eg.\n",
    "- Mean = 15%\n",
    "- p1 = 14%, p2 = 16%, p3 = 13%, p4 = 17%\n",
    "- (14% - 15%)^2, (16% - 15%)^2, (13% - 15%)^2, (17% - 15%)^2\n",
    "- 0.01% + 0.01% + 0.04% + 0.04% = 0.1%\n",
    "- s^2 = 0.1%/(4-1) = 0.033% = 0.00033\n",
    "\n",
    "> The square root of the variance is the standard deviation of this sample of observations\n",
    "\n",
    "$$s = \\sqrt{s^2}$$\n",
    "\n",
    "- standard dev = 1.8%"
   ]
  },
  {
   "cell_type": "markdown",
   "metadata": {},
   "source": [
    "## Calculating the Risk of a Security"
   ]
  },
  {
   "cell_type": "code",
   "execution_count": 2,
   "metadata": {},
   "outputs": [
    {
     "name": "stderr",
     "output_type": "stream",
     "text": [
      "/opt/anaconda3/lib/python3.7/site-packages/pandas_datareader/compat/__init__.py:7: FutureWarning: pandas.util.testing is deprecated. Use the functions in the public API at pandas.testing instead.\n",
      "  from pandas.util.testing import assert_frame_equal\n"
     ]
    }
   ],
   "source": [
    "import numpy as np\n",
    "import pandas as pd\n",
    "from pandas_datareader import data as wb\n",
    "import matplotlib.pyplot as plt"
   ]
  },
  {
   "cell_type": "code",
   "execution_count": 3,
   "metadata": {},
   "outputs": [],
   "source": [
    "tickers = ['PG', 'BEI.DE']\n",
    "\n",
    "sec_data = pd.DataFrame()\n",
    "\n",
    "for t in tickers:\n",
    "    sec_data[t] = wb.DataReader(t, data_source='yahoo', start='2010-1-1')['Adj Close']"
   ]
  },
  {
   "cell_type": "code",
   "execution_count": 4,
   "metadata": {},
   "outputs": [
    {
     "data": {
      "text/html": [
       "<div>\n",
       "<style scoped>\n",
       "    .dataframe tbody tr th:only-of-type {\n",
       "        vertical-align: middle;\n",
       "    }\n",
       "\n",
       "    .dataframe tbody tr th {\n",
       "        vertical-align: top;\n",
       "    }\n",
       "\n",
       "    .dataframe thead th {\n",
       "        text-align: right;\n",
       "    }\n",
       "</style>\n",
       "<table border=\"1\" class=\"dataframe\">\n",
       "  <thead>\n",
       "    <tr style=\"text-align: right;\">\n",
       "      <th></th>\n",
       "      <th>PG</th>\n",
       "      <th>BEI.DE</th>\n",
       "    </tr>\n",
       "    <tr>\n",
       "      <th>Date</th>\n",
       "      <th></th>\n",
       "      <th></th>\n",
       "    </tr>\n",
       "  </thead>\n",
       "  <tbody>\n",
       "    <tr>\n",
       "      <th>2020-07-06</th>\n",
       "      <td>121.629997</td>\n",
       "      <td>99.900002</td>\n",
       "    </tr>\n",
       "    <tr>\n",
       "      <th>2020-07-07</th>\n",
       "      <td>122.220001</td>\n",
       "      <td>98.239998</td>\n",
       "    </tr>\n",
       "    <tr>\n",
       "      <th>2020-07-08</th>\n",
       "      <td>122.889999</td>\n",
       "      <td>96.459999</td>\n",
       "    </tr>\n",
       "    <tr>\n",
       "      <th>2020-07-09</th>\n",
       "      <td>122.480003</td>\n",
       "      <td>95.000000</td>\n",
       "    </tr>\n",
       "    <tr>\n",
       "      <th>2020-07-10</th>\n",
       "      <td>123.889999</td>\n",
       "      <td>95.919998</td>\n",
       "    </tr>\n",
       "  </tbody>\n",
       "</table>\n",
       "</div>"
      ],
      "text/plain": [
       "                    PG     BEI.DE\n",
       "Date                             \n",
       "2020-07-06  121.629997  99.900002\n",
       "2020-07-07  122.220001  98.239998\n",
       "2020-07-08  122.889999  96.459999\n",
       "2020-07-09  122.480003  95.000000\n",
       "2020-07-10  123.889999  95.919998"
      ]
     },
     "execution_count": 4,
     "metadata": {},
     "output_type": "execute_result"
    }
   ],
   "source": [
    "sec_data.tail()"
   ]
  },
  {
   "cell_type": "markdown",
   "metadata": {},
   "source": [
    "The standard deviation of a company's returns can also be called a risk or volatility. A Stock whose returns show large deviation from its mean is said to be more volatile. Let's see the stocks of which company is riskier/more volatile."
   ]
  },
  {
   "cell_type": "code",
   "execution_count": 6,
   "metadata": {},
   "outputs": [
    {
     "data": {
      "text/html": [
       "<div>\n",
       "<style scoped>\n",
       "    .dataframe tbody tr th:only-of-type {\n",
       "        vertical-align: middle;\n",
       "    }\n",
       "\n",
       "    .dataframe tbody tr th {\n",
       "        vertical-align: top;\n",
       "    }\n",
       "\n",
       "    .dataframe thead th {\n",
       "        text-align: right;\n",
       "    }\n",
       "</style>\n",
       "<table border=\"1\" class=\"dataframe\">\n",
       "  <thead>\n",
       "    <tr style=\"text-align: right;\">\n",
       "      <th></th>\n",
       "      <th>PG</th>\n",
       "      <th>BEI.DE</th>\n",
       "    </tr>\n",
       "    <tr>\n",
       "      <th>Date</th>\n",
       "      <th></th>\n",
       "      <th></th>\n",
       "    </tr>\n",
       "  </thead>\n",
       "  <tbody>\n",
       "    <tr>\n",
       "      <th>2010-01-04</th>\n",
       "      <td>NaN</td>\n",
       "      <td>NaN</td>\n",
       "    </tr>\n",
       "    <tr>\n",
       "      <th>2010-01-05</th>\n",
       "      <td>0.000327</td>\n",
       "      <td>-0.005289</td>\n",
       "    </tr>\n",
       "    <tr>\n",
       "      <th>2010-01-06</th>\n",
       "      <td>-0.004755</td>\n",
       "      <td>-0.000758</td>\n",
       "    </tr>\n",
       "    <tr>\n",
       "      <th>2010-01-07</th>\n",
       "      <td>-0.005438</td>\n",
       "      <td>-0.010123</td>\n",
       "    </tr>\n",
       "    <tr>\n",
       "      <th>2010-01-08</th>\n",
       "      <td>-0.001323</td>\n",
       "      <td>-0.029309</td>\n",
       "    </tr>\n",
       "    <tr>\n",
       "      <th>...</th>\n",
       "      <td>...</td>\n",
       "      <td>...</td>\n",
       "    </tr>\n",
       "    <tr>\n",
       "      <th>2020-07-06</th>\n",
       "      <td>0.006185</td>\n",
       "      <td>-0.039259</td>\n",
       "    </tr>\n",
       "    <tr>\n",
       "      <th>2020-07-07</th>\n",
       "      <td>0.004839</td>\n",
       "      <td>-0.016756</td>\n",
       "    </tr>\n",
       "    <tr>\n",
       "      <th>2020-07-08</th>\n",
       "      <td>0.005467</td>\n",
       "      <td>-0.018285</td>\n",
       "    </tr>\n",
       "    <tr>\n",
       "      <th>2020-07-09</th>\n",
       "      <td>-0.003342</td>\n",
       "      <td>-0.015252</td>\n",
       "    </tr>\n",
       "    <tr>\n",
       "      <th>2020-07-10</th>\n",
       "      <td>0.011446</td>\n",
       "      <td>0.009638</td>\n",
       "    </tr>\n",
       "  </tbody>\n",
       "</table>\n",
       "<p>2648 rows × 2 columns</p>\n",
       "</div>"
      ],
      "text/plain": [
       "                  PG    BEI.DE\n",
       "Date                          \n",
       "2010-01-04       NaN       NaN\n",
       "2010-01-05  0.000327 -0.005289\n",
       "2010-01-06 -0.004755 -0.000758\n",
       "2010-01-07 -0.005438 -0.010123\n",
       "2010-01-08 -0.001323 -0.029309\n",
       "...              ...       ...\n",
       "2020-07-06  0.006185 -0.039259\n",
       "2020-07-07  0.004839 -0.016756\n",
       "2020-07-08  0.005467 -0.018285\n",
       "2020-07-09 -0.003342 -0.015252\n",
       "2020-07-10  0.011446  0.009638\n",
       "\n",
       "[2648 rows x 2 columns]"
      ]
     },
     "execution_count": 6,
     "metadata": {},
     "output_type": "execute_result"
    }
   ],
   "source": [
    "sec_returns = np.log(sec_data / sec_data.shift(1))\n",
    "sec_returns"
   ]
  },
  {
   "cell_type": "markdown",
   "metadata": {},
   "source": [
    "Each contains the log returns of PG and BEI.DE. This allows us to obtain the mean and the standard deviation of the two stocks for the dataframe. "
   ]
  },
  {
   "cell_type": "markdown",
   "metadata": {},
   "source": [
    "### PG"
   ]
  },
  {
   "cell_type": "code",
   "execution_count": 7,
   "metadata": {},
   "outputs": [
    {
     "data": {
      "text/plain": [
       "0.0003905814672337986"
      ]
     },
     "execution_count": 7,
     "metadata": {},
     "output_type": "execute_result"
    }
   ],
   "source": [
    "sec_returns['PG'].mean()"
   ]
  },
  {
   "cell_type": "code",
   "execution_count": 8,
   "metadata": {},
   "outputs": [
    {
     "data": {
      "text/plain": [
       "0.09764536680844965"
      ]
     },
     "execution_count": 8,
     "metadata": {},
     "output_type": "execute_result"
    }
   ],
   "source": [
    "sec_returns['PG'].mean() * 250"
   ]
  },
  {
   "cell_type": "code",
   "execution_count": 9,
   "metadata": {},
   "outputs": [
    {
     "data": {
      "text/plain": [
       "0.010875910202711447"
      ]
     },
     "execution_count": 9,
     "metadata": {},
     "output_type": "execute_result"
    }
   ],
   "source": [
    "sec_returns['PG'].std()"
   ]
  },
  {
   "cell_type": "code",
   "execution_count": 10,
   "metadata": {},
   "outputs": [
    {
     "data": {
      "text/plain": [
       "0.1719632393401588"
      ]
     },
     "execution_count": 10,
     "metadata": {},
     "output_type": "execute_result"
    }
   ],
   "source": [
    "sec_returns['PG'].std() * 250 **0.5 "
   ]
  },
  {
   "cell_type": "markdown",
   "metadata": {},
   "source": [
    "### BEI.DE"
   ]
  },
  {
   "cell_type": "code",
   "execution_count": 11,
   "metadata": {},
   "outputs": [
    {
     "data": {
      "text/plain": [
       "0.0003477116331892047"
      ]
     },
     "execution_count": 11,
     "metadata": {},
     "output_type": "execute_result"
    }
   ],
   "source": [
    "sec_returns['BEI.DE'].mean()"
   ]
  },
  {
   "cell_type": "code",
   "execution_count": 12,
   "metadata": {},
   "outputs": [
    {
     "data": {
      "text/plain": [
       "0.08692790829730117"
      ]
     },
     "execution_count": 12,
     "metadata": {},
     "output_type": "execute_result"
    }
   ],
   "source": [
    "sec_returns['BEI.DE'].mean() * 250"
   ]
  },
  {
   "cell_type": "code",
   "execution_count": 13,
   "metadata": {},
   "outputs": [
    {
     "data": {
      "text/plain": [
       "0.012254093548105143"
      ]
     },
     "execution_count": 13,
     "metadata": {},
     "output_type": "execute_result"
    }
   ],
   "source": [
    "sec_returns['BEI.DE'].std()"
   ]
  },
  {
   "cell_type": "code",
   "execution_count": 15,
   "metadata": {},
   "outputs": [
    {
     "data": {
      "text/plain": [
       "0.19375423136393183"
      ]
     },
     "execution_count": 15,
     "metadata": {},
     "output_type": "execute_result"
    }
   ],
   "source": [
    "sec_returns['BEI.DE'].std() * 250 ** 0.5"
   ]
  },
  {
   "cell_type": "markdown",
   "metadata": {},
   "source": [
    "Here, we have a lower mean and a higher volatility percentage."
   ]
  },
  {
   "cell_type": "code",
   "execution_count": 16,
   "metadata": {},
   "outputs": [
    {
     "data": {
      "text/plain": [
       "PG        0.097645\n",
       "BEI.DE    0.086928\n",
       "dtype: float64"
      ]
     },
     "execution_count": 16,
     "metadata": {},
     "output_type": "execute_result"
    }
   ],
   "source": [
    "sec_returns[['PG', 'BEI.DE']].mean() * 250"
   ]
  },
  {
   "cell_type": "code",
   "execution_count": 18,
   "metadata": {},
   "outputs": [
    {
     "data": {
      "text/plain": [
       "PG        0.171963\n",
       "BEI.DE    0.193754\n",
       "dtype: float64"
      ]
     },
     "execution_count": 18,
     "metadata": {},
     "output_type": "execute_result"
    }
   ],
   "source": [
    "sec_returns[['PG', 'BEI.DE']].std() * 250 ** 0.5"
   ]
  },
  {
   "cell_type": "markdown",
   "metadata": {},
   "source": [
    "From this, we can conclude that PG is a better investment since it's rate of return is higher AND it's volatility is lower."
   ]
  },
  {
   "cell_type": "markdown",
   "metadata": {},
   "source": [
    "## The benefits of portfolio diversification\n",
    "\n",
    "It is reasonable to expect the prices of shares in a stock exchange are influenced by the same factors. \n",
    "\n",
    "The most obvious example is the development of the economu in general favorable macro-economic conditions. facilitate the business of all companies. When people ahve jobs and money in their pockets, they will spend more. Companies benefit from that as their revenue increases. (And vice versa). Whenever the economy is doing good, stock prices are higher. In times of recession, companies profits are lower and share prices fall significantly. Shares are influenced by the state of the economy.  \n",
    "\n",
    "However, different industries are influenced in a different way. Eg, in a time of crisis, car makers would do worse than supermarket chains. \n",
    "\n",
    "How is this important to an investor building a portfolio stocks? Very important. \n",
    "\n",
    "Say you have shares in Facebook and have extra savings to invest in another company. Would you pick LinkedIn or Walmart? The right answer is Walmart. If anything goes wrong in the tech space, you would be somewhat protected since it will not suffer from the potentially negative development in tech. Same is valid for the retail sector. Buying shares in the same industry would expose you to excessive risk."
   ]
  },
  {
   "cell_type": "markdown",
   "metadata": {},
   "source": [
    "## Calculating the covariance between securities\n",
    "\n",
    "Now that we know it is reasonable to expect that there will be a relationship between the returns of stocks, we have to learn how to quantify this relationship.\n",
    "\n",
    "Let's look at an example:\n",
    "\n",
    "Size is one of the main factors that determines house prices. Typically, larger means more expensive. This is a correlation. The final output of the calculation lies in the interval from -1 to 1.\n",
    "\n",
    "$$\\rho{xy} = \\frac{(x - \\bar x) * (y - \\bar y)}{\\sigma x \\sigma y}$$\n",
    "\n",
    "x = house size\n",
    "y = house price\n",
    "\n",
    "- cov > 0 = the two variables move in the same direction\n",
    "- cov < 0 = the two variables move in opposite directions\n",
    "- cov = 0 = the two vartiables are independent"
   ]
  },
  {
   "cell_type": "markdown",
   "metadata": {},
   "source": [
    "## Measuring the correlation between stocks\n",
    "\n",
    "Correlation adjusts covariance. So the relationship between the two variables becomes easy and intuitive to interpret. \n",
    "\n",
    "- Perfect Correlation\n",
    "    - House prices are directly proportionate to house size\n",
    "    - Meaning we can easily calculate the price of a house if we know its size\n",
    "   - Correlation deemed positive\n",
    " \n",
    "In real life situations, we rarely see perfect correlations. Yes, size is a factor, but it isn't the only one. Location, year of construction, etc should also be considered. Same thing with shares, there are several factors that affect prices:\n",
    "- Industry growth\n",
    "- Revenue growth\n",
    "- Profitability\n",
    "- Regulatory environment\n",
    "- etc\n",
    "\n",
    "The more similiar the context in which two companies operate, the more correlation there will be between their share prices as they will be influenced by the same or similar factors. \n",
    "\n",
    "- No Correlation\n",
    "    - They are independent from each other\n",
    "    \n",
    "We would expect a correlation of 0 for the price of coffee and house prices. \n",
    "\n",
    "- Negative Correlation\n",
    "    - They move in opposite directions\n",
    "    - Perfect negative correlation: -1\n",
    "    - Imperfect negative correlation: -1 < x < 0\n",
    "\n",
    "Eg icecream and umbrellas. Good weather -> icecream. Bad weather -> umbrellas. This is an example of a situation where the prices of two companies are influenced by the same variable but the variable impacts their businesses in a different way. "
   ]
  },
  {
   "cell_type": "code",
   "execution_count": null,
   "metadata": {},
   "outputs": [],
   "source": []
  }
 ],
 "metadata": {
  "kernelspec": {
   "display_name": "Python 3",
   "language": "python",
   "name": "python3"
  },
  "language_info": {
   "codemirror_mode": {
    "name": "ipython",
    "version": 3
   },
   "file_extension": ".py",
   "mimetype": "text/x-python",
   "name": "python",
   "nbconvert_exporter": "python",
   "pygments_lexer": "ipython3",
   "version": "3.7.6"
  }
 },
 "nbformat": 4,
 "nbformat_minor": 4
}
