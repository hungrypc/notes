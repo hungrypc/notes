{
 "cells": [
  {
   "cell_type": "markdown",
   "metadata": {},
   "source": [
    "# Using Financial Data in Python"
   ]
  },
  {
   "cell_type": "markdown",
   "metadata": {},
   "source": [
    "Data for financial analysis come from two sources:\n",
    "1. Web Server\n",
    "2. Computer\n",
    "\n",
    "To access data from a web server, we connect to an API. Yahoo provides a pretty good api for data. Other examples include Morning Star or Alpha Vantage.\n",
    "\n",
    "When working with data stored on a computer, there are certain file formats that we must work with. A file format that every analyst should know how to work with is a `*.csv` (comma separated value).\n",
    "\n",
    "For most of the course, we'll be working with csv's provided by the course."
   ]
  },
  {
   "cell_type": "markdown",
   "metadata": {},
   "source": [
    "## Importing and Organizing Data pt 1"
   ]
  },
  {
   "cell_type": "code",
   "execution_count": 1,
   "metadata": {},
   "outputs": [],
   "source": [
    "import numpy as np\n",
    "import pandas as pd\n",
    "\n",
    "ser = pd.Series(np.random.random(5), name = \"Column 1\")"
   ]
  },
  {
   "cell_type": "markdown",
   "metadata": {},
   "source": [
    "One of the two main data types to find in pandas is Series. These can be thought of as a single column data, a set of observations related to a single variable"
   ]
  },
  {
   "cell_type": "code",
   "execution_count": 2,
   "metadata": {},
   "outputs": [
    {
     "data": {
      "text/plain": [
       "0    0.523613\n",
       "1    0.704642\n",
       "2    0.322144\n",
       "3    0.999826\n",
       "4    0.156622\n",
       "Name: Column 1, dtype: float64"
      ]
     },
     "execution_count": 2,
     "metadata": {},
     "output_type": "execute_result"
    }
   ],
   "source": [
    "ser"
   ]
  },
  {
   "cell_type": "code",
   "execution_count": 3,
   "metadata": {},
   "outputs": [
    {
     "data": {
      "text/plain": [
       "0.32214367806906496"
      ]
     },
     "execution_count": 3,
     "metadata": {},
     "output_type": "execute_result"
    }
   ],
   "source": [
    "ser[2]"
   ]
  },
  {
   "cell_type": "markdown",
   "metadata": {},
   "source": [
    "The other data type is called data frame. It's like the series data type, but with several columns."
   ]
  },
  {
   "cell_type": "code",
   "execution_count": 5,
   "metadata": {},
   "outputs": [
    {
     "name": "stderr",
     "output_type": "stream",
     "text": [
      "/opt/anaconda3/lib/python3.7/site-packages/pandas_datareader/compat/__init__.py:7: FutureWarning: pandas.util.testing is deprecated. Use the functions in the public API at pandas.testing instead.\n",
      "  from pandas.util.testing import assert_frame_equal\n"
     ]
    },
    {
     "data": {
      "text/html": [
       "<div>\n",
       "<style scoped>\n",
       "    .dataframe tbody tr th:only-of-type {\n",
       "        vertical-align: middle;\n",
       "    }\n",
       "\n",
       "    .dataframe tbody tr th {\n",
       "        vertical-align: top;\n",
       "    }\n",
       "\n",
       "    .dataframe thead th {\n",
       "        text-align: right;\n",
       "    }\n",
       "</style>\n",
       "<table border=\"1\" class=\"dataframe\">\n",
       "  <thead>\n",
       "    <tr style=\"text-align: right;\">\n",
       "      <th></th>\n",
       "      <th>High</th>\n",
       "      <th>Low</th>\n",
       "      <th>Open</th>\n",
       "      <th>Close</th>\n",
       "      <th>Volume</th>\n",
       "      <th>Adj Close</th>\n",
       "    </tr>\n",
       "    <tr>\n",
       "      <th>Date</th>\n",
       "      <th></th>\n",
       "      <th></th>\n",
       "      <th></th>\n",
       "      <th></th>\n",
       "      <th></th>\n",
       "      <th></th>\n",
       "    </tr>\n",
       "  </thead>\n",
       "  <tbody>\n",
       "    <tr>\n",
       "      <th>1995-01-03</th>\n",
       "      <td>15.625000</td>\n",
       "      <td>15.437500</td>\n",
       "      <td>15.468750</td>\n",
       "      <td>15.593750</td>\n",
       "      <td>3318400.0</td>\n",
       "      <td>6.320252</td>\n",
       "    </tr>\n",
       "    <tr>\n",
       "      <th>1995-01-04</th>\n",
       "      <td>15.656250</td>\n",
       "      <td>15.312500</td>\n",
       "      <td>15.531250</td>\n",
       "      <td>15.468750</td>\n",
       "      <td>2218800.0</td>\n",
       "      <td>6.269589</td>\n",
       "    </tr>\n",
       "    <tr>\n",
       "      <th>1995-01-05</th>\n",
       "      <td>15.437500</td>\n",
       "      <td>15.218750</td>\n",
       "      <td>15.375000</td>\n",
       "      <td>15.250000</td>\n",
       "      <td>2319600.0</td>\n",
       "      <td>6.180927</td>\n",
       "    </tr>\n",
       "    <tr>\n",
       "      <th>1995-01-06</th>\n",
       "      <td>15.406250</td>\n",
       "      <td>15.156250</td>\n",
       "      <td>15.156250</td>\n",
       "      <td>15.281250</td>\n",
       "      <td>3438000.0</td>\n",
       "      <td>6.193593</td>\n",
       "    </tr>\n",
       "    <tr>\n",
       "      <th>1995-01-09</th>\n",
       "      <td>15.406250</td>\n",
       "      <td>15.187500</td>\n",
       "      <td>15.343750</td>\n",
       "      <td>15.218750</td>\n",
       "      <td>1795200.0</td>\n",
       "      <td>6.168259</td>\n",
       "    </tr>\n",
       "    <tr>\n",
       "      <th>...</th>\n",
       "      <td>...</td>\n",
       "      <td>...</td>\n",
       "      <td>...</td>\n",
       "      <td>...</td>\n",
       "      <td>...</td>\n",
       "      <td>...</td>\n",
       "    </tr>\n",
       "    <tr>\n",
       "      <th>2020-06-18</th>\n",
       "      <td>119.959999</td>\n",
       "      <td>117.370003</td>\n",
       "      <td>117.459999</td>\n",
       "      <td>119.279999</td>\n",
       "      <td>6274400.0</td>\n",
       "      <td>119.279999</td>\n",
       "    </tr>\n",
       "    <tr>\n",
       "      <th>2020-06-19</th>\n",
       "      <td>121.820000</td>\n",
       "      <td>118.830002</td>\n",
       "      <td>120.489998</td>\n",
       "      <td>118.919998</td>\n",
       "      <td>17506200.0</td>\n",
       "      <td>118.919998</td>\n",
       "    </tr>\n",
       "    <tr>\n",
       "      <th>2020-06-22</th>\n",
       "      <td>119.080002</td>\n",
       "      <td>117.339996</td>\n",
       "      <td>118.779999</td>\n",
       "      <td>117.750000</td>\n",
       "      <td>5695600.0</td>\n",
       "      <td>117.750000</td>\n",
       "    </tr>\n",
       "    <tr>\n",
       "      <th>2020-06-23</th>\n",
       "      <td>119.190002</td>\n",
       "      <td>117.650002</td>\n",
       "      <td>118.669998</td>\n",
       "      <td>117.730003</td>\n",
       "      <td>5340400.0</td>\n",
       "      <td>117.730003</td>\n",
       "    </tr>\n",
       "    <tr>\n",
       "      <th>2020-06-24</th>\n",
       "      <td>117.959999</td>\n",
       "      <td>116.279999</td>\n",
       "      <td>117.220001</td>\n",
       "      <td>116.419998</td>\n",
       "      <td>6079123.0</td>\n",
       "      <td>116.419998</td>\n",
       "    </tr>\n",
       "  </tbody>\n",
       "</table>\n",
       "<p>6415 rows × 6 columns</p>\n",
       "</div>"
      ],
      "text/plain": [
       "                  High         Low        Open       Close      Volume  \\\n",
       "Date                                                                     \n",
       "1995-01-03   15.625000   15.437500   15.468750   15.593750   3318400.0   \n",
       "1995-01-04   15.656250   15.312500   15.531250   15.468750   2218800.0   \n",
       "1995-01-05   15.437500   15.218750   15.375000   15.250000   2319600.0   \n",
       "1995-01-06   15.406250   15.156250   15.156250   15.281250   3438000.0   \n",
       "1995-01-09   15.406250   15.187500   15.343750   15.218750   1795200.0   \n",
       "...                ...         ...         ...         ...         ...   \n",
       "2020-06-18  119.959999  117.370003  117.459999  119.279999   6274400.0   \n",
       "2020-06-19  121.820000  118.830002  120.489998  118.919998  17506200.0   \n",
       "2020-06-22  119.080002  117.339996  118.779999  117.750000   5695600.0   \n",
       "2020-06-23  119.190002  117.650002  118.669998  117.730003   5340400.0   \n",
       "2020-06-24  117.959999  116.279999  117.220001  116.419998   6079123.0   \n",
       "\n",
       "             Adj Close  \n",
       "Date                    \n",
       "1995-01-03    6.320252  \n",
       "1995-01-04    6.269589  \n",
       "1995-01-05    6.180927  \n",
       "1995-01-06    6.193593  \n",
       "1995-01-09    6.168259  \n",
       "...                ...  \n",
       "2020-06-18  119.279999  \n",
       "2020-06-19  118.919998  \n",
       "2020-06-22  117.750000  \n",
       "2020-06-23  117.730003  \n",
       "2020-06-24  116.419998  \n",
       "\n",
       "[6415 rows x 6 columns]"
      ]
     },
     "execution_count": 5,
     "metadata": {},
     "output_type": "execute_result"
    }
   ],
   "source": [
    "from pandas_datareader import data as wb\n",
    "\n",
    "PG = wb.DataReader('PG', data_source='yahoo', start='1995-1-1')\n",
    "PG"
   ]
  },
  {
   "cell_type": "markdown",
   "metadata": {},
   "source": [
    "Here, we are extracting data from Yahoo Finance about Procter and Gamble starting from Jan 1st 1995.\n",
    "\n",
    "`DataReader(ticker, data_source, start)`"
   ]
  },
  {
   "cell_type": "markdown",
   "metadata": {},
   "source": [
    "## Importing and Organizing Data pt2"
   ]
  },
  {
   "cell_type": "markdown",
   "metadata": {},
   "source": [
    "The data we've extracted is a time series. In every trading day, P&G's price has been recorded, as shown.\n",
    "\n",
    "The adjusted closing price for the first year seems a small number compared to the closing price. In the most recent data, we can see that the adj close and close price are much closer to each other. \n",
    "\n",
    "The difference is due to dividends paid to stock owners and other changes to the stock price such as stock splits, increases of capital, and so on."
   ]
  },
  {
   "cell_type": "markdown",
   "metadata": {},
   "source": [
    "There are a few pandas methods we use for analysis."
   ]
  },
  {
   "cell_type": "code",
   "execution_count": 6,
   "metadata": {},
   "outputs": [
    {
     "name": "stdout",
     "output_type": "stream",
     "text": [
      "<class 'pandas.core.frame.DataFrame'>\n",
      "DatetimeIndex: 6415 entries, 1995-01-03 to 2020-06-24\n",
      "Data columns (total 6 columns):\n",
      " #   Column     Non-Null Count  Dtype  \n",
      "---  ------     --------------  -----  \n",
      " 0   High       6415 non-null   float64\n",
      " 1   Low        6415 non-null   float64\n",
      " 2   Open       6415 non-null   float64\n",
      " 3   Close      6415 non-null   float64\n",
      " 4   Volume     6415 non-null   float64\n",
      " 5   Adj Close  6415 non-null   float64\n",
      "dtypes: float64(6)\n",
      "memory usage: 350.8 KB\n"
     ]
    }
   ],
   "source": [
    "PG.info()\n",
    "# tells us about the data frame object"
   ]
  },
  {
   "cell_type": "code",
   "execution_count": 7,
   "metadata": {},
   "outputs": [
    {
     "data": {
      "text/html": [
       "<div>\n",
       "<style scoped>\n",
       "    .dataframe tbody tr th:only-of-type {\n",
       "        vertical-align: middle;\n",
       "    }\n",
       "\n",
       "    .dataframe tbody tr th {\n",
       "        vertical-align: top;\n",
       "    }\n",
       "\n",
       "    .dataframe thead th {\n",
       "        text-align: right;\n",
       "    }\n",
       "</style>\n",
       "<table border=\"1\" class=\"dataframe\">\n",
       "  <thead>\n",
       "    <tr style=\"text-align: right;\">\n",
       "      <th></th>\n",
       "      <th>High</th>\n",
       "      <th>Low</th>\n",
       "      <th>Open</th>\n",
       "      <th>Close</th>\n",
       "      <th>Volume</th>\n",
       "      <th>Adj Close</th>\n",
       "    </tr>\n",
       "    <tr>\n",
       "      <th>Date</th>\n",
       "      <th></th>\n",
       "      <th></th>\n",
       "      <th></th>\n",
       "      <th></th>\n",
       "      <th></th>\n",
       "      <th></th>\n",
       "    </tr>\n",
       "  </thead>\n",
       "  <tbody>\n",
       "    <tr>\n",
       "      <th>1995-01-03</th>\n",
       "      <td>15.62500</td>\n",
       "      <td>15.43750</td>\n",
       "      <td>15.46875</td>\n",
       "      <td>15.59375</td>\n",
       "      <td>3318400.0</td>\n",
       "      <td>6.320252</td>\n",
       "    </tr>\n",
       "    <tr>\n",
       "      <th>1995-01-04</th>\n",
       "      <td>15.65625</td>\n",
       "      <td>15.31250</td>\n",
       "      <td>15.53125</td>\n",
       "      <td>15.46875</td>\n",
       "      <td>2218800.0</td>\n",
       "      <td>6.269589</td>\n",
       "    </tr>\n",
       "    <tr>\n",
       "      <th>1995-01-05</th>\n",
       "      <td>15.43750</td>\n",
       "      <td>15.21875</td>\n",
       "      <td>15.37500</td>\n",
       "      <td>15.25000</td>\n",
       "      <td>2319600.0</td>\n",
       "      <td>6.180927</td>\n",
       "    </tr>\n",
       "    <tr>\n",
       "      <th>1995-01-06</th>\n",
       "      <td>15.40625</td>\n",
       "      <td>15.15625</td>\n",
       "      <td>15.15625</td>\n",
       "      <td>15.28125</td>\n",
       "      <td>3438000.0</td>\n",
       "      <td>6.193593</td>\n",
       "    </tr>\n",
       "    <tr>\n",
       "      <th>1995-01-09</th>\n",
       "      <td>15.40625</td>\n",
       "      <td>15.18750</td>\n",
       "      <td>15.34375</td>\n",
       "      <td>15.21875</td>\n",
       "      <td>1795200.0</td>\n",
       "      <td>6.168259</td>\n",
       "    </tr>\n",
       "  </tbody>\n",
       "</table>\n",
       "</div>"
      ],
      "text/plain": [
       "                High       Low      Open     Close     Volume  Adj Close\n",
       "Date                                                                    \n",
       "1995-01-03  15.62500  15.43750  15.46875  15.59375  3318400.0   6.320252\n",
       "1995-01-04  15.65625  15.31250  15.53125  15.46875  2218800.0   6.269589\n",
       "1995-01-05  15.43750  15.21875  15.37500  15.25000  2319600.0   6.180927\n",
       "1995-01-06  15.40625  15.15625  15.15625  15.28125  3438000.0   6.193593\n",
       "1995-01-09  15.40625  15.18750  15.34375  15.21875  1795200.0   6.168259"
      ]
     },
     "execution_count": 7,
     "metadata": {},
     "output_type": "execute_result"
    }
   ],
   "source": [
    "PG.head()\n",
    "# for when we want to see the first five rows of data\n",
    "# to get more than five, we can enter a number in the parenthesis"
   ]
  },
  {
   "cell_type": "code",
   "execution_count": 8,
   "metadata": {},
   "outputs": [
    {
     "data": {
      "text/html": [
       "<div>\n",
       "<style scoped>\n",
       "    .dataframe tbody tr th:only-of-type {\n",
       "        vertical-align: middle;\n",
       "    }\n",
       "\n",
       "    .dataframe tbody tr th {\n",
       "        vertical-align: top;\n",
       "    }\n",
       "\n",
       "    .dataframe thead th {\n",
       "        text-align: right;\n",
       "    }\n",
       "</style>\n",
       "<table border=\"1\" class=\"dataframe\">\n",
       "  <thead>\n",
       "    <tr style=\"text-align: right;\">\n",
       "      <th></th>\n",
       "      <th>High</th>\n",
       "      <th>Low</th>\n",
       "      <th>Open</th>\n",
       "      <th>Close</th>\n",
       "      <th>Volume</th>\n",
       "      <th>Adj Close</th>\n",
       "    </tr>\n",
       "    <tr>\n",
       "      <th>Date</th>\n",
       "      <th></th>\n",
       "      <th></th>\n",
       "      <th></th>\n",
       "      <th></th>\n",
       "      <th></th>\n",
       "      <th></th>\n",
       "    </tr>\n",
       "  </thead>\n",
       "  <tbody>\n",
       "    <tr>\n",
       "      <th>2020-06-18</th>\n",
       "      <td>119.959999</td>\n",
       "      <td>117.370003</td>\n",
       "      <td>117.459999</td>\n",
       "      <td>119.279999</td>\n",
       "      <td>6274400.0</td>\n",
       "      <td>119.279999</td>\n",
       "    </tr>\n",
       "    <tr>\n",
       "      <th>2020-06-19</th>\n",
       "      <td>121.820000</td>\n",
       "      <td>118.830002</td>\n",
       "      <td>120.489998</td>\n",
       "      <td>118.919998</td>\n",
       "      <td>17506200.0</td>\n",
       "      <td>118.919998</td>\n",
       "    </tr>\n",
       "    <tr>\n",
       "      <th>2020-06-22</th>\n",
       "      <td>119.080002</td>\n",
       "      <td>117.339996</td>\n",
       "      <td>118.779999</td>\n",
       "      <td>117.750000</td>\n",
       "      <td>5695600.0</td>\n",
       "      <td>117.750000</td>\n",
       "    </tr>\n",
       "    <tr>\n",
       "      <th>2020-06-23</th>\n",
       "      <td>119.190002</td>\n",
       "      <td>117.650002</td>\n",
       "      <td>118.669998</td>\n",
       "      <td>117.730003</td>\n",
       "      <td>5340400.0</td>\n",
       "      <td>117.730003</td>\n",
       "    </tr>\n",
       "    <tr>\n",
       "      <th>2020-06-24</th>\n",
       "      <td>117.959999</td>\n",
       "      <td>116.279999</td>\n",
       "      <td>117.220001</td>\n",
       "      <td>116.419998</td>\n",
       "      <td>6079123.0</td>\n",
       "      <td>116.419998</td>\n",
       "    </tr>\n",
       "  </tbody>\n",
       "</table>\n",
       "</div>"
      ],
      "text/plain": [
       "                  High         Low        Open       Close      Volume  \\\n",
       "Date                                                                     \n",
       "2020-06-18  119.959999  117.370003  117.459999  119.279999   6274400.0   \n",
       "2020-06-19  121.820000  118.830002  120.489998  118.919998  17506200.0   \n",
       "2020-06-22  119.080002  117.339996  118.779999  117.750000   5695600.0   \n",
       "2020-06-23  119.190002  117.650002  118.669998  117.730003   5340400.0   \n",
       "2020-06-24  117.959999  116.279999  117.220001  116.419998   6079123.0   \n",
       "\n",
       "             Adj Close  \n",
       "Date                    \n",
       "2020-06-18  119.279999  \n",
       "2020-06-19  118.919998  \n",
       "2020-06-22  117.750000  \n",
       "2020-06-23  117.730003  \n",
       "2020-06-24  116.419998  "
      ]
     },
     "execution_count": 8,
     "metadata": {},
     "output_type": "execute_result"
    }
   ],
   "source": [
    "PG.tail()\n",
    "# for when we want to see the last five rows of data"
   ]
  },
  {
   "cell_type": "markdown",
   "metadata": {},
   "source": [
    "What if we want data on multiple companies?"
   ]
  },
  {
   "cell_type": "code",
   "execution_count": 9,
   "metadata": {},
   "outputs": [
    {
     "data": {
      "text/html": [
       "<div>\n",
       "<style scoped>\n",
       "    .dataframe tbody tr th:only-of-type {\n",
       "        vertical-align: middle;\n",
       "    }\n",
       "\n",
       "    .dataframe tbody tr th {\n",
       "        vertical-align: top;\n",
       "    }\n",
       "\n",
       "    .dataframe thead th {\n",
       "        text-align: right;\n",
       "    }\n",
       "</style>\n",
       "<table border=\"1\" class=\"dataframe\">\n",
       "  <thead>\n",
       "    <tr style=\"text-align: right;\">\n",
       "      <th></th>\n",
       "      <th>PG</th>\n",
       "      <th>MSFT</th>\n",
       "      <th>T</th>\n",
       "      <th>F</th>\n",
       "      <th>GE</th>\n",
       "    </tr>\n",
       "    <tr>\n",
       "      <th>Date</th>\n",
       "      <th></th>\n",
       "      <th></th>\n",
       "      <th></th>\n",
       "      <th></th>\n",
       "      <th></th>\n",
       "    </tr>\n",
       "  </thead>\n",
       "  <tbody>\n",
       "    <tr>\n",
       "      <th>2020-06-18</th>\n",
       "      <td>119.279999</td>\n",
       "      <td>196.320007</td>\n",
       "      <td>30.350000</td>\n",
       "      <td>6.33</td>\n",
       "      <td>7.28</td>\n",
       "    </tr>\n",
       "    <tr>\n",
       "      <th>2020-06-19</th>\n",
       "      <td>118.919998</td>\n",
       "      <td>195.149994</td>\n",
       "      <td>30.309999</td>\n",
       "      <td>6.23</td>\n",
       "      <td>7.15</td>\n",
       "    </tr>\n",
       "    <tr>\n",
       "      <th>2020-06-22</th>\n",
       "      <td>117.750000</td>\n",
       "      <td>200.570007</td>\n",
       "      <td>30.110001</td>\n",
       "      <td>6.28</td>\n",
       "      <td>7.04</td>\n",
       "    </tr>\n",
       "    <tr>\n",
       "      <th>2020-06-23</th>\n",
       "      <td>117.730003</td>\n",
       "      <td>201.910004</td>\n",
       "      <td>30.250000</td>\n",
       "      <td>6.15</td>\n",
       "      <td>7.00</td>\n",
       "    </tr>\n",
       "    <tr>\n",
       "      <th>2020-06-24</th>\n",
       "      <td>116.419998</td>\n",
       "      <td>197.839996</td>\n",
       "      <td>29.420000</td>\n",
       "      <td>5.95</td>\n",
       "      <td>6.53</td>\n",
       "    </tr>\n",
       "  </tbody>\n",
       "</table>\n",
       "</div>"
      ],
      "text/plain": [
       "                    PG        MSFT          T     F    GE\n",
       "Date                                                     \n",
       "2020-06-18  119.279999  196.320007  30.350000  6.33  7.28\n",
       "2020-06-19  118.919998  195.149994  30.309999  6.23  7.15\n",
       "2020-06-22  117.750000  200.570007  30.110001  6.28  7.04\n",
       "2020-06-23  117.730003  201.910004  30.250000  6.15  7.00\n",
       "2020-06-24  116.419998  197.839996  29.420000  5.95  6.53"
      ]
     },
     "execution_count": 9,
     "metadata": {},
     "output_type": "execute_result"
    }
   ],
   "source": [
    "tickers = ['PG', 'MSFT', 'T', 'F', 'GE']\n",
    "new_data = pd.DataFrame()\n",
    "for t in tickers:\n",
    "    new_data[t] = wb.DataReader(t, data_source='yahoo', start='1995-1-1')['Adj Close']\n",
    "    \n",
    "new_data.tail()"
   ]
  },
  {
   "cell_type": "code",
   "execution_count": null,
   "metadata": {},
   "outputs": [],
   "source": []
  }
 ],
 "metadata": {
  "kernelspec": {
   "display_name": "Python 3",
   "language": "python",
   "name": "python3"
  },
  "language_info": {
   "codemirror_mode": {
    "name": "ipython",
    "version": 3
   },
   "file_extension": ".py",
   "mimetype": "text/x-python",
   "name": "python",
   "nbconvert_exporter": "python",
   "pygments_lexer": "ipython3",
   "version": "3.7.6"
  }
 },
 "nbformat": 4,
 "nbformat_minor": 4
}
