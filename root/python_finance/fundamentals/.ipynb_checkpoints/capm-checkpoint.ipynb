{
 "cells": [
  {
   "cell_type": "markdown",
   "metadata": {},
   "source": [
    "# The Capital Asset Pricing Model\n",
    "\n",
    "The CAPM setting is not much different than the one considered by Markowitz. In the CAPM setting, investors are:\n",
    "- Risk-averse\n",
    "- Prefer higher returns\n",
    "- Are unwilling to buy anything other than the optimal portfolio\n",
    "\n",
    "Sharp introduces the concept of a market portfolio - that is a bundle of all possible investments in the world (both bonds and stocks) - and the risk return combination of this portfolio is superior to the one of any other portfolio. The expected return of the market portfolio coincides with the expected return of the market. Because this is a diversified portfolio, it makes sense it is optimal in terms of risk. It contains no idiosyncratic risk. The only risk is systematic risk. And we would expect this portfolio lies somewhere on the efficient frontier as it is an efficient portfolio, the most efficient actually. \n",
    "\n",
    "So far, this looks like a simple extension of the ideas introduced by Markowitz. However, the CAPM assumes the existence of a risk-free asset - it has a positive rate of return but zero risk associated with it. This automatically means there will be people so risk averse they will prefer to buy the risk-free only. If they want to be 100% certain their investment contains zero risk, they'll be willing to accept a lower expected rate of return. \n",
    "\n",
    "Wait, why should we assume the risk-free has a lower expected rate of return? Under the CAPM, markets are efficient. In an efficient market, investors are compensated only for additional risk they're willing to bear. Once they own an efficient portfolio, they can't arbitrage the system and earn a higher expected return for the same level of risk. In such setting, a higher rate of return means more risk. Conversely, a lower level of risk means lower return. Zero level of risk translates to the lowest level of expected return. \n",
    "\n",
    "So what changes after we introduce a risk free asset then? It means the market portfolio isn't the only asset rational investors would invest in. The risk free investment offers something new to investors. Zero risk. So, rational investors will form their portfolios considering both the risk free rate and the market portfolio. \n",
    "\n",
    "How much are they going to invest in risk free and how much are they going to invest in the market portfolio? Depends on how much they want to earn.\n",
    "\n",
    "The line that connects the risk free rate and is the tangent to the efficient frontier is called the Capital Market Line. \n",
    "**The point where the CAPM Line intersects the efficient frontier is the market portfolio**. \n",
    "\n",
    "So, every investor can invest in a combo between the risk free asset and the market portfolio according to their risk apetite. If they're willing to risk more, they'll hold a greater portion of the market portfolio. In the opposite case, if they're unwilling to risk, they'll buy more of the risk free asset and less of the market portfolio."
   ]
  },
  {
   "cell_type": "markdown",
   "metadata": {},
   "source": [
    "## Understanding and calculating a security's Beta\n",
    "\n",
    "> Beta helps us quantify the relationship between a security and the overall market portfolio.\n",
    "\n",
    "If there is a crisis in the economy, it is reasonable to expect the prices of most assets that make up the market portfolio will decrease and the market portfolio will experience a negative rate of return (let's say -5%). Investors can't protect against this via diversification because this is a systemic risk. \n",
    "\n",
    "However, some securities in the market portfolio are less risky. They have a lower sd and will decrease less than the market. \n",
    "\n",
    "For example, stock A is less volatile and only loses 3%. On the other hand, stock B has a high level of volatility and loses 7% of its value. When the economyu recovers, the market portfolio will do well and earns 9%. Stock A, the low risk low return investment, will earn investors 5% while stock B, the riskier stock, will earn 12%. \n",
    "\n",
    "This shows us that stocks can have a different behavior regarding overall market performance. Some stocks are safer (lose less, earn less) while other stocks are riskier (lose more, earn more). This is where beta comes in handy. It allows us to measure the relationship between a stock and the market portfolio.\n",
    "\n",
    "$$\\beta = \\frac{cov(r_x, r_m)}{\\sigma ^2_m}$$\n",
    "\n",
    "Beta can be calculated as the covariance between the stock and the market divided by the variance of the market. **It measures the market risk that cannot be avoided through diversification**. The riskier the stock, the higher its beta. \n",
    "\n",
    "- Beta = 0: No relationship\n",
    "- Beta < 1: Defensive (if market does poorly, these will lose less)\n",
    "- Beta > 1: Aggressive (does better than market if econ is good, lose more when it goes down)\n",
    "\n",
    "E.g. Walmart beta = 0.09. Ford beta = 1.1"
   ]
  },
  {
   "cell_type": "markdown",
   "metadata": {},
   "source": [
    "## Calculating the Beta of a Stock\n",
    "\n",
    "Beta is a fraction. \n",
    "\n",
    "$$\\beta = \\frac{cov(PG, mkt)}{var(mkt)}$$\n",
    "\n",
    "The nominator equals the covariance between the stock and the market. The denominator is the variance of the market. Beta is typically measured with data from the past 5 years. "
   ]
  },
  {
   "cell_type": "code",
   "execution_count": 1,
   "metadata": {},
   "outputs": [
    {
     "name": "stderr",
     "output_type": "stream",
     "text": [
      "/opt/anaconda3/lib/python3.7/site-packages/pandas_datareader/compat/__init__.py:7: FutureWarning: pandas.util.testing is deprecated. Use the functions in the public API at pandas.testing instead.\n",
      "  from pandas.util.testing import assert_frame_equal\n"
     ]
    }
   ],
   "source": [
    "import numpy as np\n",
    "import pandas as pd\n",
    "from pandas_datareader import data as wb\n",
    "\n",
    "tickers = ['PG', '^GSPC']\n",
    "data = pd.DataFrame()\n",
    "for t in tickers:\n",
    "    data[t] = wb.DataReader(t, data_source='yahoo', start='2015-7-15')['Adj Close']"
   ]
  },
  {
   "cell_type": "code",
   "execution_count": 2,
   "metadata": {},
   "outputs": [
    {
     "data": {
      "text/html": [
       "<div>\n",
       "<style scoped>\n",
       "    .dataframe tbody tr th:only-of-type {\n",
       "        vertical-align: middle;\n",
       "    }\n",
       "\n",
       "    .dataframe tbody tr th {\n",
       "        vertical-align: top;\n",
       "    }\n",
       "\n",
       "    .dataframe thead th {\n",
       "        text-align: right;\n",
       "    }\n",
       "</style>\n",
       "<table border=\"1\" class=\"dataframe\">\n",
       "  <thead>\n",
       "    <tr style=\"text-align: right;\">\n",
       "      <th></th>\n",
       "      <th>PG</th>\n",
       "      <th>^GSPC</th>\n",
       "    </tr>\n",
       "    <tr>\n",
       "      <th>Date</th>\n",
       "      <th></th>\n",
       "      <th></th>\n",
       "    </tr>\n",
       "  </thead>\n",
       "  <tbody>\n",
       "    <tr>\n",
       "      <th>2020-07-09</th>\n",
       "      <td>-0.003342</td>\n",
       "      <td>-0.005660</td>\n",
       "    </tr>\n",
       "    <tr>\n",
       "      <th>2020-07-10</th>\n",
       "      <td>0.011446</td>\n",
       "      <td>0.010412</td>\n",
       "    </tr>\n",
       "    <tr>\n",
       "      <th>2020-07-13</th>\n",
       "      <td>0.001291</td>\n",
       "      <td>-0.009407</td>\n",
       "    </tr>\n",
       "    <tr>\n",
       "      <th>2020-07-14</th>\n",
       "      <td>0.008349</td>\n",
       "      <td>0.013317</td>\n",
       "    </tr>\n",
       "    <tr>\n",
       "      <th>2020-07-15</th>\n",
       "      <td>0.003232</td>\n",
       "      <td>0.009022</td>\n",
       "    </tr>\n",
       "  </tbody>\n",
       "</table>\n",
       "</div>"
      ],
      "text/plain": [
       "                  PG     ^GSPC\n",
       "Date                          \n",
       "2020-07-09 -0.003342 -0.005660\n",
       "2020-07-10  0.011446  0.010412\n",
       "2020-07-13  0.001291 -0.009407\n",
       "2020-07-14  0.008349  0.013317\n",
       "2020-07-15  0.003232  0.009022"
      ]
     },
     "execution_count": 2,
     "metadata": {},
     "output_type": "execute_result"
    }
   ],
   "source": [
    "# first, lets get log returns\n",
    "sec_returns = np.log(data/data.shift(1))\n",
    "sec_returns.tail()"
   ]
  },
  {
   "cell_type": "code",
   "execution_count": 3,
   "metadata": {},
   "outputs": [
    {
     "data": {
      "text/html": [
       "<div>\n",
       "<style scoped>\n",
       "    .dataframe tbody tr th:only-of-type {\n",
       "        vertical-align: middle;\n",
       "    }\n",
       "\n",
       "    .dataframe tbody tr th {\n",
       "        vertical-align: top;\n",
       "    }\n",
       "\n",
       "    .dataframe thead th {\n",
       "        text-align: right;\n",
       "    }\n",
       "</style>\n",
       "<table border=\"1\" class=\"dataframe\">\n",
       "  <thead>\n",
       "    <tr style=\"text-align: right;\">\n",
       "      <th></th>\n",
       "      <th>PG</th>\n",
       "      <th>^GSPC</th>\n",
       "    </tr>\n",
       "  </thead>\n",
       "  <tbody>\n",
       "    <tr>\n",
       "      <th>PG</th>\n",
       "      <td>0.040957</td>\n",
       "      <td>0.024282</td>\n",
       "    </tr>\n",
       "    <tr>\n",
       "      <th>^GSPC</th>\n",
       "      <td>0.024282</td>\n",
       "      <td>0.037681</td>\n",
       "    </tr>\n",
       "  </tbody>\n",
       "</table>\n",
       "</div>"
      ],
      "text/plain": [
       "             PG     ^GSPC\n",
       "PG     0.040957  0.024282\n",
       "^GSPC  0.024282  0.037681"
      ]
     },
     "execution_count": 3,
     "metadata": {},
     "output_type": "execute_result"
    }
   ],
   "source": [
    "# next, we create a cov matrix b/t PG and the market\n",
    "cov = sec_returns.cov() * 250\n",
    "cov"
   ]
  },
  {
   "cell_type": "code",
   "execution_count": 4,
   "metadata": {},
   "outputs": [
    {
     "data": {
      "text/plain": [
       "0.0242815464313929"
      ]
     },
     "execution_count": 4,
     "metadata": {},
     "output_type": "execute_result"
    }
   ],
   "source": [
    "# then, iloc helps us obtain the cov between the stock and the market as a float\n",
    "cov_with_market = cov.iloc[0, 1]\n",
    "cov_with_market"
   ]
  },
  {
   "cell_type": "markdown",
   "metadata": {},
   "source": [
    "Alright, the nominator is ready. Nominator = variance of the market. This means we can use a new variable called `market_var` containing the annualized variance of the S&P500."
   ]
  },
  {
   "cell_type": "code",
   "execution_count": 5,
   "metadata": {},
   "outputs": [
    {
     "data": {
      "text/plain": [
       "0.03768116597734568"
      ]
     },
     "execution_count": 5,
     "metadata": {},
     "output_type": "execute_result"
    }
   ],
   "source": [
    "market_var = sec_returns['^GSPC'].var() * 250\n",
    "market_var"
   ]
  },
  {
   "cell_type": "markdown",
   "metadata": {},
   "source": [
    "Now, we're ready to calc beta. \n",
    "\n",
    "### Beta:\n",
    "$$\\beta_{pg} = \\frac{\\sigma_{pg,m}}{\\sigma_m}$$"
   ]
  },
  {
   "cell_type": "code",
   "execution_count": 7,
   "metadata": {},
   "outputs": [
    {
     "data": {
      "text/plain": [
       "0.6443947739300644"
      ]
     },
     "execution_count": 7,
     "metadata": {},
     "output_type": "execute_result"
    }
   ],
   "source": [
    "PG_beta = cov_with_market / market_var\n",
    "PG_beta"
   ]
  },
  {
   "cell_type": "markdown",
   "metadata": {},
   "source": [
    "This value is 0 < x < 1. This means that PG is a defensive stock. When the market goes up, PG's equity value won't skyrocket, while in times of crisis you'll lose less. It's good practice to verify your calculations of such indicators were correct. [barchart.com](https://www.barchart.com/stocks/quotes/PG/overview)\n",
    "(barchart is saying beta is 0.42 yet we get 0.64 here, why?)"
   ]
  },
  {
   "cell_type": "code",
   "execution_count": null,
   "metadata": {},
   "outputs": [],
   "source": []
  }
 ],
 "metadata": {
  "kernelspec": {
   "display_name": "Python 3",
   "language": "python",
   "name": "python3"
  },
  "language_info": {
   "codemirror_mode": {
    "name": "ipython",
    "version": 3
   },
   "file_extension": ".py",
   "mimetype": "text/x-python",
   "name": "python",
   "nbconvert_exporter": "python",
   "pygments_lexer": "ipython3",
   "version": "3.7.6"
  }
 },
 "nbformat": 4,
 "nbformat_minor": 4
}
